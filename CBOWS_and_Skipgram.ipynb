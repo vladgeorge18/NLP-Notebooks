{
  "cells": [
    {
      "cell_type": "markdown",
      "metadata": {},
      "source": [
        "## In this notebook we will try to implement the CBOWS and Skipgram models"
      ]
    },
    {
      "cell_type": "code",
      "execution_count": 1,
      "metadata": {
        "colab": {
          "base_uri": "https://localhost:8080/"
        },
        "id": "3fEBRYukU42s",
        "outputId": "3a791aab-0be2-4733-fbc4-1e886a267db9"
      },
      "outputs": [
        {
          "data": {
            "text/plain": [
              "<torch._C.Generator at 0x7ef833fb9590>"
            ]
          },
          "execution_count": 1,
          "metadata": {},
          "output_type": "execute_result"
        }
      ],
      "source": [
        "import torch\n",
        "import torch.nn as nn\n",
        "import torch.nn.functional as F\n",
        "import torch.optim as optim\n",
        "import re\n",
        "import string\n",
        "torch.manual_seed(1)"
      ]
    },
    {
      "cell_type": "code",
      "execution_count": 2,
      "metadata": {
        "id": "O_oSOrMiakc6"
      },
      "outputs": [],
      "source": [
        "from sklearn.model_selection import train_test_split"
      ]
    },
    {
      "cell_type": "code",
      "execution_count": 3,
      "metadata": {
        "id": "zZ_XsQtcYp4L"
      },
      "outputs": [],
      "source": [
        "\n",
        "def clean_text(text):\n",
        "    # Convert text to lowercase\n",
        "    text = text.lower()\n",
        "\n",
        "    # Remove punctuation using string.punctuation\n",
        "    text = text.translate(str.maketrans('', '', string.punctuation))\n",
        "\n",
        "    # Remove extra whitespaces\n",
        "    text = re.sub('\\s+', ' ', text).strip()\n",
        "\n",
        "    return text"
      ]
    },
    {
      "cell_type": "code",
      "execution_count": null,
      "metadata": {
        "colab": {
          "base_uri": "https://localhost:8080/"
        },
        "id": "VGWCfreTVu28",
        "outputId": "4fd6d080-e691-47b1-99f2-107343e88f37"
      },
      "outputs": [],
      "source": [
        "with open('old-man-and-the-sea.txt', 'r') as file:\n",
        "    text = file.read()\n",
        "\n",
        "print(text)"
      ]
    },
    {
      "cell_type": "code",
      "execution_count": 5,
      "metadata": {
        "colab": {
          "base_uri": "https://localhost:8080/"
        },
        "id": "FBezOChOX4li",
        "outputId": "953040e3-cd0e-4589-aa89-bc7d47e94945"
      },
      "outputs": [
        {
          "name": "stdout",
          "output_type": "stream",
          "text": [
            "what i want you to do said mr george wright as he leaned towards the old sailor is to be an uncle to me aye aye said the mystified mr kemp pausing with a mug of beer midway to his lips a rich uncle continued the young man lowering his voice to prevent any keen ears in the next bar from acquiring useless knowledge an uncle from new zealand who is going to leave me all is money wheres it coming from demanded mr kemp with a little excitement it aint coming was the reply youve only got to say youve got it fact of the matter is ive got my eye on a young lady theres another chap after er too and if she thought id got a rich uncle it might make all the difference she knows i ad an uncle that went to new zealand and was never heard of since thats what made me think of it mr kemp drank his beer in thoughtful silence how can i be a rich uncle without any brass he inquired at length i should ave to lend you somea little said mr wright illustration what i want you to do said mr george wright is to be an uncle to me the old man pondered ive had money lent me before he said candidly but i cant call to mind ever paying it back i always meant to but thats as far as it got it dont matter said the other itll only be for a little while and then youll ave a letter calling you back to new zealand see and youll go back promising to come home in a years time after youve wound up your business and leave us all your money see mr kemp scratched the back of his neck but shes sure to find it out in time he objected praps said mr wright and praps not therell be plenty of time for me to get married before she does and you could write back and say you had got married yourself or given your money to a hospital he ordered some more beer for mr kemp and in a low voice gave him as much of the family history as he considered necessary ive only known you for about ten days he concluded but id sooner trust you than people ive known for years i took a fancy to you the moment i set eyes on you rejoined mr kemp youre the living image of a young fellow that lent me five pounds once and was drowned afore my eyes the week after he ad a bit of a squint and i spose thats how he came to fall overboard he emptied his mug and then accompanied by mr wright fetched his sea chest from the boardinghouse where he was staying and took it to the young mans lodgings fortunately for the latters pocket the chest contained a good best suit and boots and the only expenses incurred were for a large soft felt hat and a gilded watch and chain dressed in his best with a bulging pocketbook in his breastpocket he set out with mr wright on the following evening to make his first call mr wright who was also in his best clothes led the way to a small tobacconists in a side street off the mile end road and raising his hat with some ceremony shook hands with a goodlooking young woman who stood behind the counter mr kemp adopting an air of scornful dignity intended to indicate the possession of great wealth waited this is my uncle said mr wright speaking rapidly from new zealand the one i spoke to you about he turned up last night and you might have knocked me down with a feather the last person in the world i expected to see mr kemp in a good rolling voice said good evening miss i hope you are well and subsiding into a chair asked for a cigar his surprise when he found that the best cigar they stocked only cost sixpence almost assumed the dimensions of a grievance itll do to go on with he said smelling it suspiciously have you got change for a fiftypound note miss bradshaw concealing her surprise by an effort said that she would see and was scanning the contents of a drawer when mr kemp in some haste discovered a few odd sovereigns in his waistcoatpocket five minutes later he was sitting in the little room behind the shop holding forth to an admiring audience so far as i know he said in reply to a question of mrs bradshaws george is the only relation ive got him and me are quite alone and i can tell you i was glad to find him mrs bradshaw sighed its a pity you are so far apart she said its not for long said mr kemp im just going back for about a year to wind up things out there and then im coming back to leave my old bones over here george has very kindly offered to let me live with him he wont suffer for it ill be bound said mrs bradshaw archly so far as money goes he wont said the old man not that that would make any difference to george it would be the same to me if you hadnt got a farthing said mr wright promptly illustration itll do to go on with he said mr kemp somewhat affected shook hands with him and leaning back in the most comfortable chair in the room described his life and struggles in new zealand hard work teetotalism and the simple life combined appeared to be responsible for a fortune which he affected to be too old to enjoy misunderstandings of a painful nature were avoided by a timely admission that under medical advice he was now taking a fair amount of stimulant illustration ow much did you say youd got in the bank mind he said as he walked home with the elated george its your game not mine and its sure to come a bit expensive i cant be a rich uncle without spending a bit ow much did you say youd got in the bank we must be as careful as we can said mr wright hastily one thing is they cant leave the shop to go out much its a very good little business and it ought to be all right for me and bella one of these days eh mr kemp prompted by a nudge in the ribs assented its wonderful how they took it all in about me he said but i feel certain in my own mind that i ought to chuck some money about tell em of the money you have chucked about said mr wright itll do just as well and come a good deal cheaper and you had better go round alone tomorrow evening itll look better just go in for another one of their sixpenny cigars mr kemp obeyed and the following evening after sitting a little while chatting in the shop was invited into the parlour where mindful of mr wrights instructions he held his listeners enthralled by tales of past expenditure a tip of fifty pounds to his bedroom steward coming over was characterized by mrs bradshaw as extravagant seems to be going all right said mr wright as the old man made his report but be careful dont go overdoing it mr kemp nodded i can turn em round my little finger he said youll have bella all to yourself tomorrow evening mr wright flushed how did you manage that he inquired its the first time she has ever been out with me alone she aint coming out said mr kemp shes going to stay at home and mind the shop its the mother whats coming out going to spend the evening with me mr wright frowned what did you do that for he demanded hotly i didnt do it said mr kemp equably they done it the old lady says that just for once in her life she wants to see how it feels to spend money like water imoney like wateri repeated the horrified mr wright money like ill money herill it dont matter to me said mr kemp i can have a headache or a chill or something of that sort if you like i dont want to go its no pleasure to me what will it cost demanded mr wright pacing up and down the room the rich uncle made a calculation she wants to go to a place called the empire he said slowly and have something for supper and thered be cabs and things i dessay it would cost a couple o pounds and it might be more but id just as soon ave a chilljust mr wright groaned and after talking of mrs bradshaw as though she were already his motherinlaw produced the money his instructions as to economy lasted almost up to the moment when he stood with bella outside the shop on the following evening and watched the couple go off its wonderful how well they get on together said bella as they reentered the shop and passed into the parlour ive never seen mother take to anybody so quick as she has to him i hope you like him too said mr wright hes a dear said bella fancy having all that money i wonder what it feels like i suppose i shall know some day said the young man slowly but it wont be much good to me unless unless said bella after a pause unless it gives me what i want replied the other id sooner be a poor man and married to the girl i love than a millionaire miss bradshaw stole an uneasy glance at his somewhat sallow features and became thoughtful its no good having diamonds and motorcars and that sort of thing unless you have somebody to share them with pursued mr wright miss bradshaws eyes sparkled and at that moment the shopbell tinkled and a lively whistle sounded she rose and went into the shop and mr wright settled back in his chair and scowled darkly as he saw the intruder good evening said the latter i want a sixpenny smoke for twopence please how are we this evening sitting up and taking nourishment miss bradshaw told him to behave himself always do said the young man thats why i can never get anybody to play with i had such an awful dream about you last night that i couldnt rest till i saw you awful it was what was it inquired miss bradshaw dreamt you were married said mr hills smiling at her miss bradshaw tossed her head who to pray she inquired me said mr hills simply i woke up in a cold perspiration halloa is that georgie in there how are you george better im all right said mr wright with dignity as the other hooked the door open with his stick and nodded at him well why dont you look it demanded the lively mr hills have you got your feet wet or what oh be quiet said miss bradshaw smiling at him righto said mr hills dropping into a chair by the counter and caressing his moustache but you wouldnt speak to me like that if you knew what a terrible day ive had what have you been doing asked the girl working said the other with a huge sigh wheres the millionaire i came round on purpose to have a look at him him and mother have gone to the empire said miss bradshaw mr hills gave three long penetrating whistles and then placing his cigar with great care on the counter hid his face in a huge handkerchief miss bradshaw glanced from him to the frowning mr wright and then entering the parlour closed the door with a bang mr hills took the hint and with a somewhat thoughtful grin departed he came in next evening for another cigar and heard all that there was to hear about the empire mrs bradshaw would have treated him but coldly but the innocent mr kemp charmed by his manner paid him great attention hes just like what i was at his age he said lively im not a patch on you said mr hills edging his way by slow degrees into the parlour i dont take young ladies to the empire were you telling me you came over here to get married or did i dream it ark at him said the blushing mr kemp as mrs bradshaw shook her head at the offender and told him to behave himself hes a man any woman might be happy with said mr hills he never knows how much there is in his trouserspocket fancy sewing on buttons for a man like that goldmining aint in it mrs bradshaw shook her head at him again and mr hills after apologizing to her for revealing her innermost thoughts before the most guileless of men began to question mr kemp as to the prospects of a bright and energetic young man with a distaste for work in new zealand the audience listened with keen attention to the replies the only disturbing factor being a cough of mr wrights which became more and more troublesome as the evening wore on by the time uncle and nephew rose to depart the latter was so hoarse that he could scarcely speak why didnt you tell em you had got a letter calling you home as i told you he vociferated as soon as they were clear of the shop ii forgot it said the old man forgot it repeated the incensed mr wright what did you think i was coughing like that forfun i forgot it said the old man doggedly besides if you take my advice youd better let me stay a little longer to make sure of things mr wright laughed disagreeably i dare say he said but i am managing this affair not you now you go round tomorrow afternoon and tell them youre off dye hear dye think im made of money and what do you mean by making such a fuss of that fool charlie hills you know he is after bella he walked the rest of the way home in indignant silence and after giving minute instructions to mr kemp next morning at breakfast went off to work in a more cheerful frame of mind mr kemp was out when he returned and after making his toilet he followed him to mrs bradshaws to his annoyance he found mr hills there again and moreover it soon became clear to him that mr kemp had said nothing about his approaching departure coughs and scowls passed unheeded and at last in a hesitating voice he broached the subject himself there was a general chorus of lamentation i hadnt got the heart to tell you said mr kemp i dont know when ive been so happy but you havent got to go back immediate said mrs bradshaw tomorrow said mr wright before the old man could reply business must you go said mrs bradshaw mr kemp smiled feebly i suppose i ought to he replied in a hesitating voice take my tip and give yourself a bit of a holiday before you go back urged mr hills just for a few days pleaded bella to please us said mrs bradshaw think ow georgell miss you lay hold of him and dont let him go said mr hills he took mr kemp round the waist and the laughing bella and her mother each secured an arm an appeal to mr wright to secure his legs passed unheeded we dont let you go till you promise said mrs bradshaw mr kemp smiled and shook his head promise said bella well well said mr kemp praps he must go back shouted the alarmed mr wright let him speak for himself exclaimed bella indignantly just another week then said mr kemp its no good having money if i cant please myself a week shouted mr wright almost beside himself with rage and dismay a week another week why you told me oh dont listen to him said mrs bradshaw croaker its his own business aint it and he knows best dont he whats it got to do with you she patted mr kemps hand mr kemp patted back and with his disengaged hand helped himself to a glass of beerthe fourthand beamed in a friendly fashion upon the company george he said suddenly yes said mr wright in a harsh voice did you think to bring my pocketbook along with you no said mr wright sharply i didnt tttt said the old man with a gesture of annoyance well lend me a couple of pounds then or else run back and fetch my pocketbook he added with a sly grin mr wrights face worked with impotent fury whatwhatdo youwant it for he gasped mrs bradshaws well well seemed to sum up the general feeling mr kemp shaking his head eyed him with gentle reproach me and mrs bradshaw are going to gave another evening out he said quietly ive only got a few more days and i must make hay while the sun shines to mr wright the room seemed to revolve slowly on its axis but regaining his selfpossession by a supreme effort he took out his purse and produced the amount mrs bradshaw after a few feminine protestations went upstairs to put her bonnet on and you can go and fetch a hansomcab george while shes adoing of it said mr kemp pick out a good orsespottedgrey if you can mr wright arose and departing with a suddenness that was almost startling exploded harmlessly in front of the barbers next door but one then with lagging steps he went in search of the shabbiest cab and oldest horse he could find thankee my boy said mr kemp bluffly as he helped mrs bradshaw in and stood with his foot on the step by the way you had better go back and lock my pocketbook up i left it on the washstand and theres best part of a thousand pounds in it you can take fifty for yourself to buy smokes with there was a murmur of admiration and mr wright with a frantic attempt to keep up appearances tried to thank him but in vain long after the cab had rolled away he stood on the pavement trying to think out a position which was rapidly becoming unendurable still keeping up appearances he had to pretend to go home to look after the pocketbook leaving the jubilant mr hills to improve the shining hour with miss bradshaw mr kemp returning home at midnightin a cabfound the young man waiting up for him and taking a seat on the edge of the table listened unmoved to a wordpicture of himself which seemed interminable he was only moved to speech when mr wright described him as a whitewhiskered jezebel who was a disgrace to his sex and then merely in the interests of natural science dont you worry he said as the other paused from exhaustion it wont be for long now long said mr wright panting first thing tomorrow morning you have a telegram calling you backa telegram that must be minded dye see no i dont said mr kemp plainly im not going back never no morenever im going to stop here and court mrs bradshaw mr wright fought for breath youyou cant he gasped im going to have a try said the old man im sick of going to sea and itll be a nice comfortable home for my old age you marry bella and ill marry her mother happy family mr wright trembling with rage sat down to recover and regaining his composure after a time pointed out almost calmly the various difficulties in the way ive thought it all out said mr kemp nodding she mustnt know im not rich till after were married then i ave a letter from new zealand saying ive lost all my money its just as easy to have that letter as the one you spoke of and im to find you money to play the rich uncle with till youre married i suppose said mr wright in a grating voice and then lose bella when mrs bradshaw finds youve lost your money mr kemp scratched his ear thats your lookout he said at last now look here said mr wright with great determination either you go and tell them that youve been telegraphed forcabled is the proper wordor i tell them the truth thatll settle you then said mr kemp no more than the other would retorted the young man and itll come cheaper one thing ill take my oath of and that is i wont give you another farthing but if you do as i tell you ill give you a quid for luck now think it over mr kemp thought it over and after a vain attempt to raise the promised reward to five pounds finally compounded for two and went off to bed after a few stormy words on selfishness and ingratitude he declined to speak to his host at breakfast next morning and accompanied him in the evening with the air of a martyr going to the stake he listened in stony silence to the young mans instructions and only spoke when the latter refused to pay the two pounds in advance the news communicated in halting accents by mr kemp was received with flattering dismay mrs bradshaw refused to believe her ears and it was only after the information had been repeated and confirmed by mr wright that she understood i must go said mr kemp ive spent over eleven pounds cabling today but its all no good but youre coming back said mr hills o course i am was the reply george is the only relation ive got and ive got to look after him i suppose after all blood is thicker than water hear hear said mrs bradshaw piously and theres you and bella continued mr kemp two of the best that ever breathed the ladies looked down and charlie hills i dont knowi dont know iwheni ive took such a fancy to anybody as i have to im if i was a young gala single young galhesthe other half he said slowly as he pausedjust the one i should fancy hes a goodarted goodlooking draw it mild interrupted the blushing mr hills as mr wright bestowed a ferocious glance upon the speaker clever lively young fellow concluded mr kemp george yes said mr wright im going now ive got to catch the train for southampton but i dont want you to come with me i prefer to be alone you stay here and cheer them up oh and before i forget it lend me a couple o pounds out o that fifty i gave you last night ive given all my small change away he looked up and met mr wrights eye the latter too affected to speak took out the money and passed it over we never know what may happen to us said the old man solemnly as he rose and buttoned his coat im an old man and i like to have things shipshape ive spent nearly the whole day with my lawyer and if anything appens to my old carcass it wont make any difference i have left half my money to george half of all i have is to be his in the midst of an awed silence he went round and shook hands the other half with his hand on the doorthe other half and my best gold watch and chain i have left to my dear young pal charlie hills goodbye georgie\n"
          ]
        }
      ],
      "source": [
        "cleaned_text = clean_text(text)\n",
        "print(cleaned_text)"
      ]
    },
    {
      "cell_type": "code",
      "execution_count": 6,
      "metadata": {
        "id": "L9qLWnpIZl0Q"
      },
      "outputs": [],
      "source": [
        "cleaned_text = cleaned_text.split()"
      ]
    },
    {
      "cell_type": "code",
      "execution_count": 7,
      "metadata": {
        "colab": {
          "base_uri": "https://localhost:8080/"
        },
        "id": "qNYTntNaacju",
        "outputId": "db1651c8-633e-407d-97d1-5da8de568f5c"
      },
      "outputs": [
        {
          "name": "stdout",
          "output_type": "stream",
          "text": [
            "['what', 'i', 'want', 'you', 'to', 'do', 'said', 'mr', 'george', 'wright', 'as', 'he', 'leaned', 'towards', 'the', 'old', 'sailor', 'is', 'to', 'be', 'an', 'uncle', 'to', 'me', 'aye', 'aye', 'said', 'the', 'mystified', 'mr', 'kemp', 'pausing', 'with', 'a', 'mug', 'of', 'beer', 'midway', 'to', 'his', 'lips', 'a', 'rich', 'uncle', 'continued', 'the', 'young', 'man', 'lowering', 'his', 'voice', 'to', 'prevent', 'any', 'keen', 'ears', 'in', 'the', 'next', 'bar', 'from', 'acquiring', 'useless', 'knowledge', 'an', 'uncle', 'from', 'new', 'zealand', 'who', 'is', 'going', 'to', 'leave', 'me', 'all', 'is', 'money', 'wheres', 'it', 'coming', 'from', 'demanded', 'mr', 'kemp', 'with', 'a', 'little', 'excitement', 'it', 'aint', 'coming', 'was', 'the', 'reply', 'youve', 'only', 'got', 'to', 'say', 'youve', 'got', 'it', 'fact', 'of', 'the', 'matter', 'is', 'ive', 'got', 'my', 'eye', 'on', 'a', 'young', 'lady', 'theres', 'another', 'chap', 'after', 'er', 'too', 'and', 'if', 'she', 'thought', 'id', 'got', 'a', 'rich', 'uncle', 'it', 'might', 'make', 'all', 'the', 'difference', 'she', 'knows', 'i', 'ad', 'an', 'uncle', 'that', 'went', 'to', 'new', 'zealand', 'and', 'was', 'never', 'heard', 'of', 'since', 'thats', 'what', 'made', 'me', 'think', 'of', 'it', 'mr', 'kemp', 'drank', 'his', 'beer', 'in', 'thoughtful', 'silence', 'how', 'can', 'i', 'be', 'a', 'rich', 'uncle', 'without', 'any', 'brass', 'he', 'inquired', 'at', 'length', 'i', 'should', 'ave', 'to', 'lend', 'you', 'somea', 'little', 'said', 'mr', 'wright', 'illustration', 'what', 'i', 'want', 'you', 'to', 'do', 'said', 'mr', 'george', 'wright', 'is', 'to', 'be', 'an', 'uncle', 'to', 'me', 'the', 'old', 'man', 'pondered', 'ive', 'had', 'money', 'lent', 'me', 'before', 'he', 'said', 'candidly', 'but', 'i', 'cant', 'call', 'to', 'mind', 'ever', 'paying', 'it', 'back', 'i', 'always', 'meant', 'to', 'but', 'thats', 'as', 'far', 'as', 'it', 'got', 'it', 'dont', 'matter', 'said', 'the', 'other', 'itll', 'only', 'be', 'for', 'a', 'little', 'while', 'and', 'then', 'youll', 'ave', 'a', 'letter', 'calling', 'you', 'back', 'to', 'new', 'zealand', 'see', 'and', 'youll', 'go', 'back', 'promising', 'to', 'come', 'home', 'in', 'a', 'years', 'time', 'after', 'youve', 'wound', 'up', 'your', 'business', 'and', 'leave', 'us', 'all', 'your', 'money', 'see', 'mr', 'kemp', 'scratched', 'the', 'back', 'of', 'his', 'neck', 'but', 'shes', 'sure', 'to', 'find', 'it', 'out', 'in', 'time', 'he', 'objected', 'praps', 'said', 'mr', 'wright', 'and', 'praps', 'not', 'therell', 'be', 'plenty', 'of', 'time', 'for', 'me', 'to', 'get', 'married', 'before', 'she', 'does', 'and', 'you', 'could', 'write', 'back', 'and', 'say', 'you', 'had', 'got', 'married', 'yourself', 'or', 'given', 'your', 'money', 'to', 'a', 'hospital', 'he', 'ordered', 'some', 'more', 'beer', 'for', 'mr', 'kemp', 'and', 'in', 'a', 'low', 'voice', 'gave', 'him', 'as', 'much', 'of', 'the', 'family', 'history', 'as', 'he', 'considered', 'necessary', 'ive', 'only', 'known', 'you', 'for', 'about', 'ten', 'days', 'he', 'concluded', 'but', 'id', 'sooner', 'trust', 'you', 'than', 'people', 'ive', 'known', 'for', 'years', 'i', 'took', 'a', 'fancy', 'to', 'you', 'the', 'moment', 'i', 'set', 'eyes', 'on', 'you', 'rejoined', 'mr', 'kemp', 'youre', 'the', 'living', 'image', 'of', 'a', 'young', 'fellow', 'that', 'lent', 'me', 'five', 'pounds', 'once', 'and', 'was', 'drowned', 'afore', 'my', 'eyes', 'the', 'week', 'after', 'he', 'ad', 'a', 'bit', 'of', 'a', 'squint', 'and', 'i', 'spose', 'thats', 'how', 'he', 'came', 'to', 'fall', 'overboard', 'he', 'emptied', 'his', 'mug', 'and', 'then', 'accompanied', 'by', 'mr', 'wright', 'fetched', 'his', 'sea', 'chest', 'from', 'the', 'boardinghouse', 'where', 'he', 'was', 'staying', 'and', 'took', 'it', 'to', 'the', 'young', 'mans', 'lodgings', 'fortunately', 'for', 'the', 'latters', 'pocket', 'the', 'chest', 'contained', 'a', 'good', 'best', 'suit', 'and', 'boots', 'and', 'the', 'only', 'expenses', 'incurred', 'were', 'for', 'a', 'large', 'soft', 'felt', 'hat', 'and', 'a', 'gilded', 'watch', 'and', 'chain', 'dressed', 'in', 'his', 'best', 'with', 'a', 'bulging', 'pocketbook', 'in', 'his', 'breastpocket', 'he', 'set', 'out', 'with', 'mr', 'wright', 'on', 'the', 'following', 'evening', 'to', 'make', 'his', 'first', 'call', 'mr', 'wright', 'who', 'was', 'also', 'in', 'his', 'best', 'clothes', 'led', 'the', 'way', 'to', 'a', 'small', 'tobacconists', 'in', 'a', 'side', 'street', 'off', 'the', 'mile', 'end', 'road', 'and', 'raising', 'his', 'hat', 'with', 'some', 'ceremony', 'shook', 'hands', 'with', 'a', 'goodlooking', 'young', 'woman', 'who', 'stood', 'behind', 'the', 'counter', 'mr', 'kemp', 'adopting', 'an', 'air', 'of', 'scornful', 'dignity', 'intended', 'to', 'indicate', 'the', 'possession', 'of', 'great', 'wealth', 'waited', 'this', 'is', 'my', 'uncle', 'said', 'mr', 'wright', 'speaking', 'rapidly', 'from', 'new', 'zealand', 'the', 'one', 'i', 'spoke', 'to', 'you', 'about', 'he', 'turned', 'up', 'last', 'night', 'and', 'you', 'might', 'have', 'knocked', 'me', 'down', 'with', 'a', 'feather', 'the', 'last', 'person', 'in', 'the', 'world', 'i', 'expected', 'to', 'see', 'mr', 'kemp', 'in', 'a', 'good', 'rolling', 'voice', 'said', 'good', 'evening', 'miss', 'i', 'hope', 'you', 'are', 'well', 'and', 'subsiding', 'into', 'a', 'chair', 'asked', 'for', 'a', 'cigar', 'his', 'surprise', 'when', 'he', 'found', 'that', 'the', 'best', 'cigar', 'they', 'stocked', 'only', 'cost', 'sixpence', 'almost', 'assumed', 'the', 'dimensions', 'of', 'a', 'grievance', 'itll', 'do', 'to', 'go', 'on', 'with', 'he', 'said', 'smelling', 'it', 'suspiciously', 'have', 'you', 'got', 'change', 'for', 'a', 'fiftypound', 'note', 'miss', 'bradshaw', 'concealing', 'her', 'surprise', 'by', 'an', 'effort', 'said', 'that', 'she', 'would', 'see', 'and', 'was', 'scanning', 'the', 'contents', 'of', 'a', 'drawer', 'when', 'mr', 'kemp', 'in', 'some', 'haste', 'discovered', 'a', 'few', 'odd', 'sovereigns', 'in', 'his', 'waistcoatpocket', 'five', 'minutes', 'later', 'he', 'was', 'sitting', 'in', 'the', 'little', 'room', 'behind', 'the', 'shop', 'holding', 'forth', 'to', 'an', 'admiring', 'audience', 'so', 'far', 'as', 'i', 'know', 'he', 'said', 'in', 'reply', 'to', 'a', 'question', 'of', 'mrs', 'bradshaws', 'george', 'is', 'the', 'only', 'relation', 'ive', 'got', 'him', 'and', 'me', 'are', 'quite', 'alone', 'and', 'i', 'can', 'tell', 'you', 'i', 'was', 'glad', 'to', 'find', 'him', 'mrs', 'bradshaw', 'sighed', 'its', 'a', 'pity', 'you', 'are', 'so', 'far', 'apart', 'she', 'said', 'its', 'not', 'for', 'long', 'said', 'mr', 'kemp', 'im', 'just', 'going', 'back', 'for', 'about', 'a', 'year', 'to', 'wind', 'up', 'things', 'out', 'there', 'and', 'then', 'im', 'coming', 'back', 'to', 'leave', 'my', 'old', 'bones', 'over', 'here', 'george', 'has', 'very', 'kindly', 'offered', 'to', 'let', 'me', 'live', 'with', 'him', 'he', 'wont', 'suffer', 'for', 'it', 'ill', 'be', 'bound', 'said', 'mrs', 'bradshaw', 'archly', 'so', 'far', 'as', 'money', 'goes', 'he', 'wont', 'said', 'the', 'old', 'man', 'not', 'that', 'that', 'would', 'make', 'any', 'difference', 'to', 'george', 'it', 'would', 'be', 'the', 'same', 'to', 'me', 'if', 'you', 'hadnt', 'got', 'a', 'farthing', 'said', 'mr', 'wright', 'promptly', 'illustration', 'itll', 'do', 'to', 'go', 'on', 'with', 'he', 'said', 'mr', 'kemp', 'somewhat', 'affected', 'shook', 'hands', 'with', 'him', 'and', 'leaning', 'back', 'in', 'the', 'most', 'comfortable', 'chair', 'in', 'the', 'room', 'described', 'his', 'life', 'and', 'struggles', 'in', 'new', 'zealand', 'hard', 'work', 'teetotalism', 'and', 'the', 'simple', 'life', 'combined', 'appeared', 'to', 'be', 'responsible', 'for', 'a', 'fortune', 'which', 'he', 'affected', 'to', 'be', 'too', 'old', 'to', 'enjoy', 'misunderstandings', 'of', 'a', 'painful', 'nature', 'were', 'avoided', 'by', 'a', 'timely', 'admission', 'that', 'under', 'medical', 'advice', 'he', 'was', 'now', 'taking', 'a', 'fair', 'amount', 'of', 'stimulant', 'illustration', 'ow', 'much', 'did', 'you', 'say', 'youd', 'got', 'in', 'the', 'bank', 'mind', 'he', 'said', 'as', 'he', 'walked', 'home', 'with', 'the', 'elated', 'george', 'its', 'your', 'game', 'not', 'mine', 'and', 'its', 'sure', 'to', 'come', 'a', 'bit', 'expensive', 'i', 'cant', 'be', 'a', 'rich', 'uncle', 'without', 'spending', 'a', 'bit', 'ow', 'much', 'did', 'you', 'say', 'youd', 'got', 'in', 'the', 'bank', 'we', 'must', 'be', 'as', 'careful', 'as', 'we', 'can', 'said', 'mr', 'wright', 'hastily', 'one', 'thing', 'is', 'they', 'cant', 'leave', 'the', 'shop', 'to', 'go', 'out', 'much', 'its', 'a', 'very', 'good', 'little', 'business', 'and', 'it', 'ought', 'to', 'be', 'all', 'right', 'for', 'me', 'and', 'bella', 'one', 'of', 'these', 'days', 'eh', 'mr', 'kemp', 'prompted', 'by', 'a', 'nudge', 'in', 'the', 'ribs', 'assented', 'its', 'wonderful', 'how', 'they', 'took', 'it', 'all', 'in', 'about', 'me', 'he', 'said', 'but', 'i', 'feel', 'certain', 'in', 'my', 'own', 'mind', 'that', 'i', 'ought', 'to', 'chuck', 'some', 'money', 'about', 'tell', 'em', 'of', 'the', 'money', 'you', 'have', 'chucked', 'about', 'said', 'mr', 'wright', 'itll', 'do', 'just', 'as', 'well', 'and', 'come', 'a', 'good', 'deal', 'cheaper', 'and', 'you', 'had', 'better', 'go', 'round', 'alone', 'tomorrow', 'evening', 'itll', 'look', 'better', 'just', 'go', 'in', 'for', 'another', 'one', 'of', 'their', 'sixpenny', 'cigars', 'mr', 'kemp', 'obeyed', 'and', 'the', 'following', 'evening', 'after', 'sitting', 'a', 'little', 'while', 'chatting', 'in', 'the', 'shop', 'was', 'invited', 'into', 'the', 'parlour', 'where', 'mindful', 'of', 'mr', 'wrights', 'instructions', 'he', 'held', 'his', 'listeners', 'enthralled', 'by', 'tales', 'of', 'past', 'expenditure', 'a', 'tip', 'of', 'fifty', 'pounds', 'to', 'his', 'bedroom', 'steward', 'coming', 'over', 'was', 'characterized', 'by', 'mrs', 'bradshaw', 'as', 'extravagant', 'seems', 'to', 'be', 'going', 'all', 'right', 'said', 'mr', 'wright', 'as', 'the', 'old', 'man', 'made', 'his', 'report', 'but', 'be', 'careful', 'dont', 'go', 'overdoing', 'it', 'mr', 'kemp', 'nodded', 'i', 'can', 'turn', 'em', 'round', 'my', 'little', 'finger', 'he', 'said', 'youll', 'have', 'bella', 'all', 'to', 'yourself', 'tomorrow', 'evening', 'mr', 'wright', 'flushed', 'how', 'did', 'you', 'manage', 'that', 'he', 'inquired', 'its', 'the', 'first', 'time', 'she', 'has', 'ever', 'been', 'out', 'with', 'me', 'alone', 'she', 'aint', 'coming', 'out', 'said', 'mr', 'kemp', 'shes', 'going', 'to', 'stay', 'at', 'home', 'and', 'mind', 'the', 'shop', 'its', 'the', 'mother', 'whats', 'coming', 'out', 'going', 'to', 'spend', 'the', 'evening', 'with', 'me', 'mr', 'wright', 'frowned', 'what', 'did', 'you', 'do', 'that', 'for', 'he', 'demanded', 'hotly', 'i', 'didnt', 'do', 'it', 'said', 'mr', 'kemp', 'equably', 'they', 'done', 'it', 'the', 'old', 'lady', 'says', 'that', 'just', 'for', 'once', 'in', 'her', 'life', 'she', 'wants', 'to', 'see', 'how', 'it', 'feels', 'to', 'spend', 'money', 'like', 'water', 'imoney', 'like', 'wateri', 'repeated', 'the', 'horrified', 'mr', 'wright', 'money', 'like', 'ill', 'money', 'herill', 'it', 'dont', 'matter', 'to', 'me', 'said', 'mr', 'kemp', 'i', 'can', 'have', 'a', 'headache', 'or', 'a', 'chill', 'or', 'something', 'of', 'that', 'sort', 'if', 'you', 'like', 'i', 'dont', 'want', 'to', 'go', 'its', 'no', 'pleasure', 'to', 'me', 'what', 'will', 'it', 'cost', 'demanded', 'mr', 'wright', 'pacing', 'up', 'and', 'down', 'the', 'room', 'the', 'rich', 'uncle', 'made', 'a', 'calculation', 'she', 'wants', 'to', 'go', 'to', 'a', 'place', 'called', 'the', 'empire', 'he', 'said', 'slowly', 'and', 'have', 'something', 'for', 'supper', 'and', 'thered', 'be', 'cabs', 'and', 'things', 'i', 'dessay', 'it', 'would', 'cost', 'a', 'couple', 'o', 'pounds', 'and', 'it', 'might', 'be', 'more', 'but', 'id', 'just', 'as', 'soon', 'ave', 'a', 'chilljust', 'mr', 'wright', 'groaned', 'and', 'after', 'talking', 'of', 'mrs', 'bradshaw', 'as', 'though', 'she', 'were', 'already', 'his', 'motherinlaw', 'produced', 'the', 'money', 'his', 'instructions', 'as', 'to', 'economy', 'lasted', 'almost', 'up', 'to', 'the', 'moment', 'when', 'he', 'stood', 'with', 'bella', 'outside', 'the', 'shop', 'on', 'the', 'following', 'evening', 'and', 'watched', 'the', 'couple', 'go', 'off', 'its', 'wonderful', 'how', 'well', 'they', 'get', 'on', 'together', 'said', 'bella', 'as', 'they', 'reentered', 'the', 'shop', 'and', 'passed', 'into', 'the', 'parlour', 'ive', 'never', 'seen', 'mother', 'take', 'to', 'anybody', 'so', 'quick', 'as', 'she', 'has', 'to', 'him', 'i', 'hope', 'you', 'like', 'him', 'too', 'said', 'mr', 'wright', 'hes', 'a', 'dear', 'said', 'bella', 'fancy', 'having', 'all', 'that', 'money', 'i', 'wonder', 'what', 'it', 'feels', 'like', 'i', 'suppose', 'i', 'shall', 'know', 'some', 'day', 'said', 'the', 'young', 'man', 'slowly', 'but', 'it', 'wont', 'be', 'much', 'good', 'to', 'me', 'unless', 'unless', 'said', 'bella', 'after', 'a', 'pause', 'unless', 'it', 'gives', 'me', 'what', 'i', 'want', 'replied', 'the', 'other', 'id', 'sooner', 'be', 'a', 'poor', 'man', 'and', 'married', 'to', 'the', 'girl', 'i', 'love', 'than', 'a', 'millionaire', 'miss', 'bradshaw', 'stole', 'an', 'uneasy', 'glance', 'at', 'his', 'somewhat', 'sallow', 'features', 'and', 'became', 'thoughtful', 'its', 'no', 'good', 'having', 'diamonds', 'and', 'motorcars', 'and', 'that', 'sort', 'of', 'thing', 'unless', 'you', 'have', 'somebody', 'to', 'share', 'them', 'with', 'pursued', 'mr', 'wright', 'miss', 'bradshaws', 'eyes', 'sparkled', 'and', 'at', 'that', 'moment', 'the', 'shopbell', 'tinkled', 'and', 'a', 'lively', 'whistle', 'sounded', 'she', 'rose', 'and', 'went', 'into', 'the', 'shop', 'and', 'mr', 'wright', 'settled', 'back', 'in', 'his', 'chair', 'and', 'scowled', 'darkly', 'as', 'he', 'saw', 'the', 'intruder', 'good', 'evening', 'said', 'the', 'latter', 'i', 'want', 'a', 'sixpenny', 'smoke', 'for', 'twopence', 'please', 'how', 'are', 'we', 'this', 'evening', 'sitting', 'up', 'and', 'taking', 'nourishment', 'miss', 'bradshaw', 'told', 'him', 'to', 'behave', 'himself', 'always', 'do', 'said', 'the', 'young', 'man', 'thats', 'why', 'i', 'can', 'never', 'get', 'anybody', 'to', 'play', 'with', 'i', 'had', 'such', 'an', 'awful', 'dream', 'about', 'you', 'last', 'night', 'that', 'i', 'couldnt', 'rest', 'till', 'i', 'saw', 'you', 'awful', 'it', 'was', 'what', 'was', 'it', 'inquired', 'miss', 'bradshaw', 'dreamt', 'you', 'were', 'married', 'said', 'mr', 'hills', 'smiling', 'at', 'her', 'miss', 'bradshaw', 'tossed', 'her', 'head', 'who', 'to', 'pray', 'she', 'inquired', 'me', 'said', 'mr', 'hills', 'simply', 'i', 'woke', 'up', 'in', 'a', 'cold', 'perspiration', 'halloa', 'is', 'that', 'georgie', 'in', 'there', 'how', 'are', 'you', 'george', 'better', 'im', 'all', 'right', 'said', 'mr', 'wright', 'with', 'dignity', 'as', 'the', 'other', 'hooked', 'the', 'door', 'open', 'with', 'his', 'stick', 'and', 'nodded', 'at', 'him', 'well', 'why', 'dont', 'you', 'look', 'it', 'demanded', 'the', 'lively', 'mr', 'hills', 'have', 'you', 'got', 'your', 'feet', 'wet', 'or', 'what', 'oh', 'be', 'quiet', 'said', 'miss', 'bradshaw', 'smiling', 'at', 'him', 'righto', 'said', 'mr', 'hills', 'dropping', 'into', 'a', 'chair', 'by', 'the', 'counter', 'and', 'caressing', 'his', 'moustache', 'but', 'you', 'wouldnt', 'speak', 'to', 'me', 'like', 'that', 'if', 'you', 'knew', 'what', 'a', 'terrible', 'day', 'ive', 'had', 'what', 'have', 'you', 'been', 'doing', 'asked', 'the', 'girl', 'working', 'said', 'the', 'other', 'with', 'a', 'huge', 'sigh', 'wheres', 'the', 'millionaire', 'i', 'came', 'round', 'on', 'purpose', 'to', 'have', 'a', 'look', 'at', 'him', 'him', 'and', 'mother', 'have', 'gone', 'to', 'the', 'empire', 'said', 'miss', 'bradshaw', 'mr', 'hills', 'gave', 'three', 'long', 'penetrating', 'whistles', 'and', 'then', 'placing', 'his', 'cigar', 'with', 'great', 'care', 'on', 'the', 'counter', 'hid', 'his', 'face', 'in', 'a', 'huge', 'handkerchief', 'miss', 'bradshaw', 'glanced', 'from', 'him', 'to', 'the', 'frowning', 'mr', 'wright', 'and', 'then', 'entering', 'the', 'parlour', 'closed', 'the', 'door', 'with', 'a', 'bang', 'mr', 'hills', 'took', 'the', 'hint', 'and', 'with', 'a', 'somewhat', 'thoughtful', 'grin', 'departed', 'he', 'came', 'in', 'next', 'evening', 'for', 'another', 'cigar', 'and', 'heard', 'all', 'that', 'there', 'was', 'to', 'hear', 'about', 'the', 'empire', 'mrs', 'bradshaw', 'would', 'have', 'treated', 'him', 'but', 'coldly', 'but', 'the', 'innocent', 'mr', 'kemp', 'charmed', 'by', 'his', 'manner', 'paid', 'him', 'great', 'attention', 'hes', 'just', 'like', 'what', 'i', 'was', 'at', 'his', 'age', 'he', 'said', 'lively', 'im', 'not', 'a', 'patch', 'on', 'you', 'said', 'mr', 'hills', 'edging', 'his', 'way', 'by', 'slow', 'degrees', 'into', 'the', 'parlour', 'i', 'dont', 'take', 'young', 'ladies', 'to', 'the', 'empire', 'were', 'you', 'telling', 'me', 'you', 'came', 'over', 'here', 'to', 'get', 'married', 'or', 'did', 'i', 'dream', 'it', 'ark', 'at', 'him', 'said', 'the', 'blushing', 'mr', 'kemp', 'as', 'mrs', 'bradshaw', 'shook', 'her', 'head', 'at', 'the', 'offender', 'and', 'told', 'him', 'to', 'behave', 'himself', 'hes', 'a', 'man', 'any', 'woman', 'might', 'be', 'happy', 'with', 'said', 'mr', 'hills', 'he', 'never', 'knows', 'how', 'much', 'there', 'is', 'in', 'his', 'trouserspocket', 'fancy', 'sewing', 'on', 'buttons', 'for', 'a', 'man', 'like', 'that', 'goldmining', 'aint', 'in', 'it', 'mrs', 'bradshaw', 'shook', 'her', 'head', 'at', 'him', 'again', 'and', 'mr', 'hills', 'after', 'apologizing', 'to', 'her', 'for', 'revealing', 'her', 'innermost', 'thoughts', 'before', 'the', 'most', 'guileless', 'of', 'men', 'began', 'to', 'question', 'mr', 'kemp', 'as', 'to', 'the', 'prospects', 'of', 'a', 'bright', 'and', 'energetic', 'young', 'man', 'with', 'a', 'distaste', 'for', 'work', 'in', 'new', 'zealand', 'the', 'audience', 'listened', 'with', 'keen', 'attention', 'to', 'the', 'replies', 'the', 'only', 'disturbing', 'factor', 'being', 'a', 'cough', 'of', 'mr', 'wrights', 'which', 'became', 'more', 'and', 'more', 'troublesome', 'as', 'the', 'evening', 'wore', 'on', 'by', 'the', 'time', 'uncle', 'and', 'nephew', 'rose', 'to', 'depart', 'the', 'latter', 'was', 'so', 'hoarse', 'that', 'he', 'could', 'scarcely', 'speak', 'why', 'didnt', 'you', 'tell', 'em', 'you', 'had', 'got', 'a', 'letter', 'calling', 'you', 'home', 'as', 'i', 'told', 'you', 'he', 'vociferated', 'as', 'soon', 'as', 'they', 'were', 'clear', 'of', 'the', 'shop', 'ii', 'forgot', 'it', 'said', 'the', 'old', 'man', 'forgot', 'it', 'repeated', 'the', 'incensed', 'mr', 'wright', 'what', 'did', 'you', 'think', 'i', 'was', 'coughing', 'like', 'that', 'forfun', 'i', 'forgot', 'it', 'said', 'the', 'old', 'man', 'doggedly', 'besides', 'if', 'you', 'take', 'my', 'advice', 'youd', 'better', 'let', 'me', 'stay', 'a', 'little', 'longer', 'to', 'make', 'sure', 'of', 'things', 'mr', 'wright', 'laughed', 'disagreeably', 'i', 'dare', 'say', 'he', 'said', 'but', 'i', 'am', 'managing', 'this', 'affair', 'not', 'you', 'now', 'you', 'go', 'round', 'tomorrow', 'afternoon', 'and', 'tell', 'them', 'youre', 'off', 'dye', 'hear', 'dye', 'think', 'im', 'made', 'of', 'money', 'and', 'what', 'do', 'you', 'mean', 'by', 'making', 'such', 'a', 'fuss', 'of', 'that', 'fool', 'charlie', 'hills', 'you', 'know', 'he', 'is', 'after', 'bella', 'he', 'walked', 'the', 'rest', 'of', 'the', 'way', 'home', 'in', 'indignant', 'silence', 'and', 'after', 'giving', 'minute', 'instructions', 'to', 'mr', 'kemp', 'next', 'morning', 'at', 'breakfast', 'went', 'off', 'to', 'work', 'in', 'a', 'more', 'cheerful', 'frame', 'of', 'mind', 'mr', 'kemp', 'was', 'out', 'when', 'he', 'returned', 'and', 'after', 'making', 'his', 'toilet', 'he', 'followed', 'him', 'to', 'mrs', 'bradshaws', 'to', 'his', 'annoyance', 'he', 'found', 'mr', 'hills', 'there', 'again', 'and', 'moreover', 'it', 'soon', 'became', 'clear', 'to', 'him', 'that', 'mr', 'kemp', 'had', 'said', 'nothing', 'about', 'his', 'approaching', 'departure', 'coughs', 'and', 'scowls', 'passed', 'unheeded', 'and', 'at', 'last', 'in', 'a', 'hesitating', 'voice', 'he', 'broached', 'the', 'subject', 'himself', 'there', 'was', 'a', 'general', 'chorus', 'of', 'lamentation', 'i', 'hadnt', 'got', 'the', 'heart', 'to', 'tell', 'you', 'said', 'mr', 'kemp', 'i', 'dont', 'know', 'when', 'ive', 'been', 'so', 'happy', 'but', 'you', 'havent', 'got', 'to', 'go', 'back', 'immediate', 'said', 'mrs', 'bradshaw', 'tomorrow', 'said', 'mr', 'wright', 'before', 'the', 'old', 'man', 'could', 'reply', 'business', 'must', 'you', 'go', 'said', 'mrs', 'bradshaw', 'mr', 'kemp', 'smiled', 'feebly', 'i', 'suppose', 'i', 'ought', 'to', 'he', 'replied', 'in', 'a', 'hesitating', 'voice', 'take', 'my', 'tip', 'and', 'give', 'yourself', 'a', 'bit', 'of', 'a', 'holiday', 'before', 'you', 'go', 'back', 'urged', 'mr', 'hills', 'just', 'for', 'a', 'few', 'days', 'pleaded', 'bella', 'to', 'please', 'us', 'said', 'mrs', 'bradshaw', 'think', 'ow', 'georgell', 'miss', 'you', 'lay', 'hold', 'of', 'him', 'and', 'dont', 'let', 'him', 'go', 'said', 'mr', 'hills', 'he', 'took', 'mr', 'kemp', 'round', 'the', 'waist', 'and', 'the', 'laughing', 'bella', 'and', 'her', 'mother', 'each', 'secured', 'an', 'arm', 'an', 'appeal', 'to', 'mr', 'wright', 'to', 'secure', 'his', 'legs', 'passed', 'unheeded', 'we', 'dont', 'let', 'you', 'go', 'till', 'you', 'promise', 'said', 'mrs', 'bradshaw', 'mr', 'kemp', 'smiled', 'and', 'shook', 'his', 'head', 'promise', 'said', 'bella', 'well', 'well', 'said', 'mr', 'kemp', 'praps', 'he', 'must', 'go', 'back', 'shouted', 'the', 'alarmed', 'mr', 'wright', 'let', 'him', 'speak', 'for', 'himself', 'exclaimed', 'bella', 'indignantly', 'just', 'another', 'week', 'then', 'said', 'mr', 'kemp', 'its', 'no', 'good', 'having', 'money', 'if', 'i', 'cant', 'please', 'myself', 'a', 'week', 'shouted', 'mr', 'wright', 'almost', 'beside', 'himself', 'with', 'rage', 'and', 'dismay', 'a', 'week', 'another', 'week', 'why', 'you', 'told', 'me', 'oh', 'dont', 'listen', 'to', 'him', 'said', 'mrs', 'bradshaw', 'croaker', 'its', 'his', 'own', 'business', 'aint', 'it', 'and', 'he', 'knows', 'best', 'dont', 'he', 'whats', 'it', 'got', 'to', 'do', 'with', 'you', 'she', 'patted', 'mr', 'kemps', 'hand', 'mr', 'kemp', 'patted', 'back', 'and', 'with', 'his', 'disengaged', 'hand', 'helped', 'himself', 'to', 'a', 'glass', 'of', 'beerthe', 'fourthand', 'beamed', 'in', 'a', 'friendly', 'fashion', 'upon', 'the', 'company', 'george', 'he', 'said', 'suddenly', 'yes', 'said', 'mr', 'wright', 'in', 'a', 'harsh', 'voice', 'did', 'you', 'think', 'to', 'bring', 'my', 'pocketbook', 'along', 'with', 'you', 'no', 'said', 'mr', 'wright', 'sharply', 'i', 'didnt', 'tttt', 'said', 'the', 'old', 'man', 'with', 'a', 'gesture', 'of', 'annoyance', 'well', 'lend', 'me', 'a', 'couple', 'of', 'pounds', 'then', 'or', 'else', 'run', 'back', 'and', 'fetch', 'my', 'pocketbook', 'he', 'added', 'with', 'a', 'sly', 'grin', 'mr', 'wrights', 'face', 'worked', 'with', 'impotent', 'fury', 'whatwhatdo', 'youwant', 'it', 'for', 'he', 'gasped', 'mrs', 'bradshaws', 'well', 'well', 'seemed', 'to', 'sum', 'up', 'the', 'general', 'feeling', 'mr', 'kemp', 'shaking', 'his', 'head', 'eyed', 'him', 'with', 'gentle', 'reproach', 'me', 'and', 'mrs', 'bradshaw', 'are', 'going', 'to', 'gave', 'another', 'evening', 'out', 'he', 'said', 'quietly', 'ive', 'only', 'got', 'a', 'few', 'more', 'days', 'and', 'i', 'must', 'make', 'hay', 'while', 'the', 'sun', 'shines', 'to', 'mr', 'wright', 'the', 'room', 'seemed', 'to', 'revolve', 'slowly', 'on', 'its', 'axis', 'but', 'regaining', 'his', 'selfpossession', 'by', 'a', 'supreme', 'effort', 'he', 'took', 'out', 'his', 'purse', 'and', 'produced', 'the', 'amount', 'mrs', 'bradshaw', 'after', 'a', 'few', 'feminine', 'protestations', 'went', 'upstairs', 'to', 'put', 'her', 'bonnet', 'on', 'and', 'you', 'can', 'go', 'and', 'fetch', 'a', 'hansomcab', 'george', 'while', 'shes', 'adoing', 'of', 'it', 'said', 'mr', 'kemp', 'pick', 'out', 'a', 'good', 'orsespottedgrey', 'if', 'you', 'can', 'mr', 'wright', 'arose', 'and', 'departing', 'with', 'a', 'suddenness', 'that', 'was', 'almost', 'startling', 'exploded', 'harmlessly', 'in', 'front', 'of', 'the', 'barbers', 'next', 'door', 'but', 'one', 'then', 'with', 'lagging', 'steps', 'he', 'went', 'in', 'search', 'of', 'the', 'shabbiest', 'cab', 'and', 'oldest', 'horse', 'he', 'could', 'find', 'thankee', 'my', 'boy', 'said', 'mr', 'kemp', 'bluffly', 'as', 'he', 'helped', 'mrs', 'bradshaw', 'in', 'and', 'stood', 'with', 'his', 'foot', 'on', 'the', 'step', 'by', 'the', 'way', 'you', 'had', 'better', 'go', 'back', 'and', 'lock', 'my', 'pocketbook', 'up', 'i', 'left', 'it', 'on', 'the', 'washstand', 'and', 'theres', 'best', 'part', 'of', 'a', 'thousand', 'pounds', 'in', 'it', 'you', 'can', 'take', 'fifty', 'for', 'yourself', 'to', 'buy', 'smokes', 'with', 'there', 'was', 'a', 'murmur', 'of', 'admiration', 'and', 'mr', 'wright', 'with', 'a', 'frantic', 'attempt', 'to', 'keep', 'up', 'appearances', 'tried', 'to', 'thank', 'him', 'but', 'in', 'vain', 'long', 'after', 'the', 'cab', 'had', 'rolled', 'away', 'he', 'stood', 'on', 'the', 'pavement', 'trying', 'to', 'think', 'out', 'a', 'position', 'which', 'was', 'rapidly', 'becoming', 'unendurable', 'still', 'keeping', 'up', 'appearances', 'he', 'had', 'to', 'pretend', 'to', 'go', 'home', 'to', 'look', 'after', 'the', 'pocketbook', 'leaving', 'the', 'jubilant', 'mr', 'hills', 'to', 'improve', 'the', 'shining', 'hour', 'with', 'miss', 'bradshaw', 'mr', 'kemp', 'returning', 'home', 'at', 'midnightin', 'a', 'cabfound', 'the', 'young', 'man', 'waiting', 'up', 'for', 'him', 'and', 'taking', 'a', 'seat', 'on', 'the', 'edge', 'of', 'the', 'table', 'listened', 'unmoved', 'to', 'a', 'wordpicture', 'of', 'himself', 'which', 'seemed', 'interminable', 'he', 'was', 'only', 'moved', 'to', 'speech', 'when', 'mr', 'wright', 'described', 'him', 'as', 'a', 'whitewhiskered', 'jezebel', 'who', 'was', 'a', 'disgrace', 'to', 'his', 'sex', 'and', 'then', 'merely', 'in', 'the', 'interests', 'of', 'natural', 'science', 'dont', 'you', 'worry', 'he', 'said', 'as', 'the', 'other', 'paused', 'from', 'exhaustion', 'it', 'wont', 'be', 'for', 'long', 'now', 'long', 'said', 'mr', 'wright', 'panting', 'first', 'thing', 'tomorrow', 'morning', 'you', 'have', 'a', 'telegram', 'calling', 'you', 'backa', 'telegram', 'that', 'must', 'be', 'minded', 'dye', 'see', 'no', 'i', 'dont', 'said', 'mr', 'kemp', 'plainly', 'im', 'not', 'going', 'back', 'never', 'no', 'morenever', 'im', 'going', 'to', 'stop', 'here', 'and', 'court', 'mrs', 'bradshaw', 'mr', 'wright', 'fought', 'for', 'breath', 'youyou', 'cant', 'he', 'gasped', 'im', 'going', 'to', 'have', 'a', 'try', 'said', 'the', 'old', 'man', 'im', 'sick', 'of', 'going', 'to', 'sea', 'and', 'itll', 'be', 'a', 'nice', 'comfortable', 'home', 'for', 'my', 'old', 'age', 'you', 'marry', 'bella', 'and', 'ill', 'marry', 'her', 'mother', 'happy', 'family', 'mr', 'wright', 'trembling', 'with', 'rage', 'sat', 'down', 'to', 'recover', 'and', 'regaining', 'his', 'composure', 'after', 'a', 'time', 'pointed', 'out', 'almost', 'calmly', 'the', 'various', 'difficulties', 'in', 'the', 'way', 'ive', 'thought', 'it', 'all', 'out', 'said', 'mr', 'kemp', 'nodding', 'she', 'mustnt', 'know', 'im', 'not', 'rich', 'till', 'after', 'were', 'married', 'then', 'i', 'ave', 'a', 'letter', 'from', 'new', 'zealand', 'saying', 'ive', 'lost', 'all', 'my', 'money', 'its', 'just', 'as', 'easy', 'to', 'have', 'that', 'letter', 'as', 'the', 'one', 'you', 'spoke', 'of', 'and', 'im', 'to', 'find', 'you', 'money', 'to', 'play', 'the', 'rich', 'uncle', 'with', 'till', 'youre', 'married', 'i', 'suppose', 'said', 'mr', 'wright', 'in', 'a', 'grating', 'voice', 'and', 'then', 'lose', 'bella', 'when', 'mrs', 'bradshaw', 'finds', 'youve', 'lost', 'your', 'money', 'mr', 'kemp', 'scratched', 'his', 'ear', 'thats', 'your', 'lookout', 'he', 'said', 'at', 'last', 'now', 'look', 'here', 'said', 'mr', 'wright', 'with', 'great', 'determination', 'either', 'you', 'go', 'and', 'tell', 'them', 'that', 'youve', 'been', 'telegraphed', 'forcabled', 'is', 'the', 'proper', 'wordor', 'i', 'tell', 'them', 'the', 'truth', 'thatll', 'settle', 'you', 'then', 'said', 'mr', 'kemp', 'no', 'more', 'than', 'the', 'other', 'would', 'retorted', 'the', 'young', 'man', 'and', 'itll', 'come', 'cheaper', 'one', 'thing', 'ill', 'take', 'my', 'oath', 'of', 'and', 'that', 'is', 'i', 'wont', 'give', 'you', 'another', 'farthing', 'but', 'if', 'you', 'do', 'as', 'i', 'tell', 'you', 'ill', 'give', 'you', 'a', 'quid', 'for', 'luck', 'now', 'think', 'it', 'over', 'mr', 'kemp', 'thought', 'it', 'over', 'and', 'after', 'a', 'vain', 'attempt', 'to', 'raise', 'the', 'promised', 'reward', 'to', 'five', 'pounds', 'finally', 'compounded', 'for', 'two', 'and', 'went', 'off', 'to', 'bed', 'after', 'a', 'few', 'stormy', 'words', 'on', 'selfishness', 'and', 'ingratitude', 'he', 'declined', 'to', 'speak', 'to', 'his', 'host', 'at', 'breakfast', 'next', 'morning', 'and', 'accompanied', 'him', 'in', 'the', 'evening', 'with', 'the', 'air', 'of', 'a', 'martyr', 'going', 'to', 'the', 'stake', 'he', 'listened', 'in', 'stony', 'silence', 'to', 'the', 'young', 'mans', 'instructions', 'and', 'only', 'spoke', 'when', 'the', 'latter', 'refused', 'to', 'pay', 'the', 'two', 'pounds', 'in', 'advance', 'the', 'news', 'communicated', 'in', 'halting', 'accents', 'by', 'mr', 'kemp', 'was', 'received', 'with', 'flattering', 'dismay', 'mrs', 'bradshaw', 'refused', 'to', 'believe', 'her', 'ears', 'and', 'it', 'was', 'only', 'after', 'the', 'information', 'had', 'been', 'repeated', 'and', 'confirmed', 'by', 'mr', 'wright', 'that', 'she', 'understood', 'i', 'must', 'go', 'said', 'mr', 'kemp', 'ive', 'spent', 'over', 'eleven', 'pounds', 'cabling', 'today', 'but', 'its', 'all', 'no', 'good', 'but', 'youre', 'coming', 'back', 'said', 'mr', 'hills', 'o', 'course', 'i', 'am', 'was', 'the', 'reply', 'george', 'is', 'the', 'only', 'relation', 'ive', 'got', 'and', 'ive', 'got', 'to', 'look', 'after', 'him', 'i', 'suppose', 'after', 'all', 'blood', 'is', 'thicker', 'than', 'water', 'hear', 'hear', 'said', 'mrs', 'bradshaw', 'piously', 'and', 'theres', 'you', 'and', 'bella', 'continued', 'mr', 'kemp', 'two', 'of', 'the', 'best', 'that', 'ever', 'breathed', 'the', 'ladies', 'looked', 'down', 'and', 'charlie', 'hills', 'i', 'dont', 'knowi', 'dont', 'know', 'iwheni', 'ive', 'took', 'such', 'a', 'fancy', 'to', 'anybody', 'as', 'i', 'have', 'to', 'im', 'if', 'i', 'was', 'a', 'young', 'gala', 'single', 'young', 'galhesthe', 'other', 'half', 'he', 'said', 'slowly', 'as', 'he', 'pausedjust', 'the', 'one', 'i', 'should', 'fancy', 'hes', 'a', 'goodarted', 'goodlooking', 'draw', 'it', 'mild', 'interrupted', 'the', 'blushing', 'mr', 'hills', 'as', 'mr', 'wright', 'bestowed', 'a', 'ferocious', 'glance', 'upon', 'the', 'speaker', 'clever', 'lively', 'young', 'fellow', 'concluded', 'mr', 'kemp', 'george', 'yes', 'said', 'mr', 'wright', 'im', 'going', 'now', 'ive', 'got', 'to', 'catch', 'the', 'train', 'for', 'southampton', 'but', 'i', 'dont', 'want', 'you', 'to', 'come', 'with', 'me', 'i', 'prefer', 'to', 'be', 'alone', 'you', 'stay', 'here', 'and', 'cheer', 'them', 'up', 'oh', 'and', 'before', 'i', 'forget', 'it', 'lend', 'me', 'a', 'couple', 'o', 'pounds', 'out', 'o', 'that', 'fifty', 'i', 'gave', 'you', 'last', 'night', 'ive', 'given', 'all', 'my', 'small', 'change', 'away', 'he', 'looked', 'up', 'and', 'met', 'mr', 'wrights', 'eye', 'the', 'latter', 'too', 'affected', 'to', 'speak', 'took', 'out', 'the', 'money', 'and', 'passed', 'it', 'over', 'we', 'never', 'know', 'what', 'may', 'happen', 'to', 'us', 'said', 'the', 'old', 'man', 'solemnly', 'as', 'he', 'rose', 'and', 'buttoned', 'his', 'coat', 'im', 'an', 'old', 'man', 'and', 'i', 'like', 'to', 'have', 'things', 'shipshape', 'ive', 'spent', 'nearly', 'the', 'whole', 'day', 'with', 'my', 'lawyer', 'and', 'if', 'anything', 'appens', 'to', 'my', 'old', 'carcass', 'it', 'wont', 'make', 'any', 'difference', 'i', 'have', 'left', 'half', 'my', 'money', 'to', 'george', 'half', 'of', 'all', 'i', 'have', 'is', 'to', 'be', 'his', 'in', 'the', 'midst', 'of', 'an', 'awed', 'silence', 'he', 'went', 'round', 'and', 'shook', 'hands', 'the', 'other', 'half', 'with', 'his', 'hand', 'on', 'the', 'doorthe', 'other', 'half', 'and', 'my', 'best', 'gold', 'watch', 'and', 'chain', 'i', 'have', 'left', 'to', 'my', 'dear', 'young', 'pal', 'charlie', 'hills', 'goodbye', 'georgie']\n"
          ]
        }
      ],
      "source": [
        "print(cleaned_text)"
      ]
    },
    {
      "cell_type": "code",
      "execution_count": 8,
      "metadata": {
        "id": "mvqTXoC3cit3"
      },
      "outputs": [],
      "source": [
        "split_index = int(len(cleaned_text) * 0.8)"
      ]
    },
    {
      "cell_type": "code",
      "execution_count": 9,
      "metadata": {
        "id": "6eZwDhBucmt3"
      },
      "outputs": [],
      "source": [
        "train = cleaned_text[:split_index]\n",
        "test = cleaned_text[split_index:]"
      ]
    },
    {
      "cell_type": "code",
      "execution_count": 10,
      "metadata": {
        "colab": {
          "base_uri": "https://localhost:8080/"
        },
        "id": "0qrrVyNfaz49",
        "outputId": "ec8f6e5b-724a-4991-b706-f2b481c89be0"
      },
      "outputs": [
        {
          "name": "stdout",
          "output_type": "stream",
          "text": [
            "['what', 'i', 'want', 'you', 'to', 'do', 'said', 'mr', 'george', 'wright', 'as', 'he', 'leaned', 'towards', 'the', 'old', 'sailor', 'is', 'to', 'be', 'an', 'uncle', 'to', 'me', 'aye', 'aye', 'said', 'the', 'mystified', 'mr', 'kemp', 'pausing', 'with', 'a', 'mug', 'of', 'beer', 'midway', 'to', 'his', 'lips', 'a', 'rich', 'uncle', 'continued', 'the', 'young', 'man', 'lowering', 'his', 'voice', 'to', 'prevent', 'any', 'keen', 'ears', 'in', 'the', 'next', 'bar', 'from', 'acquiring', 'useless', 'knowledge', 'an', 'uncle', 'from', 'new', 'zealand', 'who', 'is', 'going', 'to', 'leave', 'me', 'all', 'is', 'money', 'wheres', 'it', 'coming', 'from', 'demanded', 'mr', 'kemp', 'with', 'a', 'little', 'excitement', 'it', 'aint', 'coming', 'was', 'the', 'reply', 'youve', 'only', 'got', 'to', 'say', 'youve', 'got', 'it', 'fact', 'of', 'the', 'matter', 'is', 'ive', 'got', 'my', 'eye', 'on', 'a', 'young', 'lady', 'theres', 'another', 'chap', 'after', 'er', 'too', 'and', 'if', 'she', 'thought', 'id', 'got', 'a', 'rich', 'uncle', 'it', 'might', 'make', 'all', 'the', 'difference', 'she', 'knows', 'i', 'ad', 'an', 'uncle', 'that', 'went', 'to', 'new', 'zealand', 'and', 'was', 'never', 'heard', 'of', 'since', 'thats', 'what', 'made', 'me', 'think', 'of', 'it', 'mr', 'kemp', 'drank', 'his', 'beer', 'in', 'thoughtful', 'silence', 'how', 'can', 'i', 'be', 'a', 'rich', 'uncle', 'without', 'any', 'brass', 'he', 'inquired', 'at', 'length', 'i', 'should', 'ave', 'to', 'lend', 'you', 'somea', 'little', 'said', 'mr', 'wright', 'illustration', 'what', 'i', 'want', 'you', 'to', 'do', 'said', 'mr', 'george', 'wright', 'is', 'to', 'be', 'an', 'uncle', 'to', 'me', 'the', 'old', 'man', 'pondered', 'ive', 'had', 'money', 'lent', 'me', 'before', 'he', 'said', 'candidly', 'but', 'i', 'cant', 'call', 'to', 'mind', 'ever', 'paying', 'it', 'back', 'i', 'always', 'meant', 'to', 'but', 'thats', 'as', 'far', 'as', 'it', 'got', 'it', 'dont', 'matter', 'said', 'the', 'other', 'itll', 'only', 'be', 'for', 'a', 'little', 'while', 'and', 'then', 'youll', 'ave', 'a', 'letter', 'calling', 'you', 'back', 'to', 'new', 'zealand', 'see', 'and', 'youll', 'go', 'back', 'promising', 'to', 'come', 'home', 'in', 'a', 'years', 'time', 'after', 'youve', 'wound', 'up', 'your', 'business', 'and', 'leave', 'us', 'all', 'your', 'money', 'see', 'mr', 'kemp', 'scratched', 'the', 'back', 'of', 'his', 'neck', 'but', 'shes', 'sure', 'to', 'find', 'it', 'out', 'in', 'time', 'he', 'objected', 'praps', 'said', 'mr', 'wright', 'and', 'praps', 'not', 'therell', 'be', 'plenty', 'of', 'time', 'for', 'me', 'to', 'get', 'married', 'before', 'she', 'does', 'and', 'you', 'could', 'write', 'back', 'and', 'say', 'you', 'had', 'got', 'married', 'yourself', 'or', 'given', 'your', 'money', 'to', 'a', 'hospital', 'he', 'ordered', 'some', 'more', 'beer', 'for', 'mr', 'kemp', 'and', 'in', 'a', 'low', 'voice', 'gave', 'him', 'as', 'much', 'of', 'the', 'family', 'history', 'as', 'he', 'considered', 'necessary', 'ive', 'only', 'known', 'you', 'for', 'about', 'ten', 'days', 'he', 'concluded', 'but', 'id', 'sooner', 'trust', 'you', 'than', 'people', 'ive', 'known', 'for', 'years', 'i', 'took', 'a', 'fancy', 'to', 'you', 'the', 'moment', 'i', 'set', 'eyes', 'on', 'you', 'rejoined', 'mr', 'kemp', 'youre', 'the', 'living', 'image', 'of', 'a', 'young', 'fellow', 'that', 'lent', 'me', 'five', 'pounds', 'once', 'and', 'was', 'drowned', 'afore', 'my', 'eyes', 'the', 'week', 'after', 'he', 'ad', 'a', 'bit', 'of', 'a', 'squint', 'and', 'i', 'spose', 'thats', 'how', 'he', 'came', 'to', 'fall', 'overboard', 'he', 'emptied', 'his', 'mug', 'and', 'then', 'accompanied', 'by', 'mr', 'wright', 'fetched', 'his', 'sea', 'chest', 'from', 'the', 'boardinghouse', 'where', 'he', 'was', 'staying', 'and', 'took', 'it', 'to', 'the', 'young', 'mans', 'lodgings', 'fortunately', 'for', 'the', 'latters', 'pocket', 'the', 'chest', 'contained', 'a', 'good', 'best', 'suit', 'and', 'boots', 'and', 'the', 'only', 'expenses', 'incurred', 'were', 'for', 'a', 'large', 'soft', 'felt', 'hat', 'and', 'a', 'gilded', 'watch', 'and', 'chain', 'dressed', 'in', 'his', 'best', 'with', 'a', 'bulging', 'pocketbook', 'in', 'his', 'breastpocket', 'he', 'set', 'out', 'with', 'mr', 'wright', 'on', 'the', 'following', 'evening', 'to', 'make', 'his', 'first', 'call', 'mr', 'wright', 'who', 'was', 'also', 'in', 'his', 'best', 'clothes', 'led', 'the', 'way', 'to', 'a', 'small', 'tobacconists', 'in', 'a', 'side', 'street', 'off', 'the', 'mile', 'end', 'road', 'and', 'raising', 'his', 'hat', 'with', 'some', 'ceremony', 'shook', 'hands', 'with', 'a', 'goodlooking', 'young', 'woman', 'who', 'stood', 'behind', 'the', 'counter', 'mr', 'kemp', 'adopting', 'an', 'air', 'of', 'scornful', 'dignity', 'intended', 'to', 'indicate', 'the', 'possession', 'of', 'great', 'wealth', 'waited', 'this', 'is', 'my', 'uncle', 'said', 'mr', 'wright', 'speaking', 'rapidly', 'from', 'new', 'zealand', 'the', 'one', 'i', 'spoke', 'to', 'you', 'about', 'he', 'turned', 'up', 'last', 'night', 'and', 'you', 'might', 'have', 'knocked', 'me', 'down', 'with', 'a', 'feather', 'the', 'last', 'person', 'in', 'the', 'world', 'i', 'expected', 'to', 'see', 'mr', 'kemp', 'in', 'a', 'good', 'rolling', 'voice', 'said', 'good', 'evening', 'miss', 'i', 'hope', 'you', 'are', 'well', 'and', 'subsiding', 'into', 'a', 'chair', 'asked', 'for', 'a', 'cigar', 'his', 'surprise', 'when', 'he', 'found', 'that', 'the', 'best', 'cigar', 'they', 'stocked', 'only', 'cost', 'sixpence', 'almost', 'assumed', 'the', 'dimensions', 'of', 'a', 'grievance', 'itll', 'do', 'to', 'go', 'on', 'with', 'he', 'said', 'smelling', 'it', 'suspiciously', 'have', 'you', 'got', 'change', 'for', 'a', 'fiftypound', 'note', 'miss', 'bradshaw', 'concealing', 'her', 'surprise', 'by', 'an', 'effort', 'said', 'that', 'she', 'would', 'see', 'and', 'was', 'scanning', 'the', 'contents', 'of', 'a', 'drawer', 'when', 'mr', 'kemp', 'in', 'some', 'haste', 'discovered', 'a', 'few', 'odd', 'sovereigns', 'in', 'his', 'waistcoatpocket', 'five', 'minutes', 'later', 'he', 'was', 'sitting', 'in', 'the', 'little', 'room', 'behind', 'the', 'shop', 'holding', 'forth', 'to', 'an', 'admiring', 'audience', 'so', 'far', 'as', 'i', 'know', 'he', 'said', 'in', 'reply', 'to', 'a', 'question', 'of', 'mrs', 'bradshaws', 'george', 'is', 'the', 'only', 'relation', 'ive', 'got', 'him', 'and', 'me', 'are', 'quite', 'alone', 'and', 'i', 'can', 'tell', 'you', 'i', 'was', 'glad', 'to', 'find', 'him', 'mrs', 'bradshaw', 'sighed', 'its', 'a', 'pity', 'you', 'are', 'so', 'far', 'apart', 'she', 'said', 'its', 'not', 'for', 'long', 'said', 'mr', 'kemp', 'im', 'just', 'going', 'back', 'for', 'about', 'a', 'year', 'to', 'wind', 'up', 'things', 'out', 'there', 'and', 'then', 'im', 'coming', 'back', 'to', 'leave', 'my', 'old', 'bones', 'over', 'here', 'george', 'has', 'very', 'kindly', 'offered', 'to', 'let', 'me', 'live', 'with', 'him', 'he', 'wont', 'suffer', 'for', 'it', 'ill', 'be', 'bound', 'said', 'mrs', 'bradshaw', 'archly', 'so', 'far', 'as', 'money', 'goes', 'he', 'wont', 'said', 'the', 'old', 'man', 'not', 'that', 'that', 'would', 'make', 'any', 'difference', 'to', 'george', 'it', 'would', 'be', 'the', 'same', 'to', 'me', 'if', 'you', 'hadnt', 'got', 'a', 'farthing', 'said', 'mr', 'wright', 'promptly', 'illustration', 'itll', 'do', 'to', 'go', 'on', 'with', 'he', 'said', 'mr', 'kemp', 'somewhat', 'affected', 'shook', 'hands', 'with', 'him', 'and', 'leaning', 'back', 'in', 'the', 'most', 'comfortable', 'chair', 'in', 'the', 'room', 'described', 'his', 'life', 'and', 'struggles', 'in', 'new', 'zealand', 'hard', 'work', 'teetotalism', 'and', 'the', 'simple', 'life', 'combined', 'appeared', 'to', 'be', 'responsible', 'for', 'a', 'fortune', 'which', 'he', 'affected', 'to', 'be', 'too', 'old', 'to', 'enjoy', 'misunderstandings', 'of', 'a', 'painful', 'nature', 'were', 'avoided', 'by', 'a', 'timely', 'admission', 'that', 'under', 'medical', 'advice', 'he', 'was', 'now', 'taking', 'a', 'fair', 'amount', 'of', 'stimulant', 'illustration', 'ow', 'much', 'did', 'you', 'say', 'youd', 'got', 'in', 'the', 'bank', 'mind', 'he', 'said', 'as', 'he', 'walked', 'home', 'with', 'the', 'elated', 'george', 'its', 'your', 'game', 'not', 'mine', 'and', 'its', 'sure', 'to', 'come', 'a', 'bit', 'expensive', 'i', 'cant', 'be', 'a', 'rich', 'uncle', 'without', 'spending', 'a', 'bit', 'ow', 'much', 'did', 'you', 'say', 'youd', 'got', 'in', 'the', 'bank', 'we', 'must', 'be', 'as', 'careful', 'as', 'we', 'can', 'said', 'mr', 'wright', 'hastily', 'one', 'thing', 'is', 'they', 'cant', 'leave', 'the', 'shop', 'to', 'go', 'out', 'much', 'its', 'a', 'very', 'good', 'little', 'business', 'and', 'it', 'ought', 'to', 'be', 'all', 'right', 'for', 'me', 'and', 'bella', 'one', 'of', 'these', 'days', 'eh', 'mr', 'kemp', 'prompted', 'by', 'a', 'nudge', 'in', 'the', 'ribs', 'assented', 'its', 'wonderful', 'how', 'they', 'took', 'it', 'all', 'in', 'about', 'me', 'he', 'said', 'but', 'i', 'feel', 'certain', 'in', 'my', 'own', 'mind', 'that', 'i', 'ought', 'to', 'chuck', 'some', 'money', 'about', 'tell', 'em', 'of', 'the', 'money', 'you', 'have', 'chucked', 'about', 'said', 'mr', 'wright', 'itll', 'do', 'just', 'as', 'well', 'and', 'come', 'a', 'good', 'deal', 'cheaper', 'and', 'you', 'had', 'better', 'go', 'round', 'alone', 'tomorrow', 'evening', 'itll', 'look', 'better', 'just', 'go', 'in', 'for', 'another', 'one', 'of', 'their', 'sixpenny', 'cigars', 'mr', 'kemp', 'obeyed', 'and', 'the', 'following', 'evening', 'after', 'sitting', 'a', 'little', 'while', 'chatting', 'in', 'the', 'shop', 'was', 'invited', 'into', 'the', 'parlour', 'where', 'mindful', 'of', 'mr', 'wrights', 'instructions', 'he', 'held', 'his', 'listeners', 'enthralled', 'by', 'tales', 'of', 'past', 'expenditure', 'a', 'tip', 'of', 'fifty', 'pounds', 'to', 'his', 'bedroom', 'steward', 'coming', 'over', 'was', 'characterized', 'by', 'mrs', 'bradshaw', 'as', 'extravagant', 'seems', 'to', 'be', 'going', 'all', 'right', 'said', 'mr', 'wright', 'as', 'the', 'old', 'man', 'made', 'his', 'report', 'but', 'be', 'careful', 'dont', 'go', 'overdoing', 'it', 'mr', 'kemp', 'nodded', 'i', 'can', 'turn', 'em', 'round', 'my', 'little', 'finger', 'he', 'said', 'youll', 'have', 'bella', 'all', 'to', 'yourself', 'tomorrow', 'evening', 'mr', 'wright', 'flushed', 'how', 'did', 'you', 'manage', 'that', 'he', 'inquired', 'its', 'the', 'first', 'time', 'she', 'has', 'ever', 'been', 'out', 'with', 'me', 'alone', 'she', 'aint', 'coming', 'out', 'said', 'mr', 'kemp', 'shes', 'going', 'to', 'stay', 'at', 'home', 'and', 'mind', 'the', 'shop', 'its', 'the', 'mother', 'whats', 'coming', 'out', 'going', 'to', 'spend', 'the', 'evening', 'with', 'me', 'mr', 'wright', 'frowned', 'what', 'did', 'you', 'do', 'that', 'for', 'he', 'demanded', 'hotly', 'i', 'didnt', 'do', 'it', 'said', 'mr', 'kemp', 'equably', 'they', 'done', 'it', 'the', 'old', 'lady', 'says', 'that', 'just', 'for', 'once', 'in', 'her', 'life', 'she', 'wants', 'to', 'see', 'how', 'it', 'feels', 'to', 'spend', 'money', 'like', 'water', 'imoney', 'like', 'wateri', 'repeated', 'the', 'horrified', 'mr', 'wright', 'money', 'like', 'ill', 'money', 'herill', 'it', 'dont', 'matter', 'to', 'me', 'said', 'mr', 'kemp', 'i', 'can', 'have', 'a', 'headache', 'or', 'a', 'chill', 'or', 'something', 'of', 'that', 'sort', 'if', 'you', 'like', 'i', 'dont', 'want', 'to', 'go', 'its', 'no', 'pleasure', 'to', 'me', 'what', 'will', 'it', 'cost', 'demanded', 'mr', 'wright', 'pacing', 'up', 'and', 'down', 'the', 'room', 'the', 'rich', 'uncle', 'made', 'a', 'calculation', 'she', 'wants', 'to', 'go', 'to', 'a', 'place', 'called', 'the', 'empire', 'he', 'said', 'slowly', 'and', 'have', 'something', 'for', 'supper', 'and', 'thered', 'be', 'cabs', 'and', 'things', 'i', 'dessay', 'it', 'would', 'cost', 'a', 'couple', 'o', 'pounds', 'and', 'it', 'might', 'be', 'more', 'but', 'id', 'just', 'as', 'soon', 'ave', 'a', 'chilljust', 'mr', 'wright', 'groaned', 'and', 'after', 'talking', 'of', 'mrs', 'bradshaw', 'as', 'though', 'she', 'were', 'already', 'his', 'motherinlaw', 'produced', 'the', 'money', 'his', 'instructions', 'as', 'to', 'economy', 'lasted', 'almost', 'up', 'to', 'the', 'moment', 'when', 'he', 'stood', 'with', 'bella', 'outside', 'the', 'shop', 'on', 'the', 'following', 'evening', 'and', 'watched', 'the', 'couple', 'go', 'off', 'its', 'wonderful', 'how', 'well', 'they', 'get', 'on', 'together', 'said', 'bella', 'as', 'they', 'reentered', 'the', 'shop', 'and', 'passed', 'into', 'the', 'parlour', 'ive', 'never', 'seen', 'mother', 'take', 'to', 'anybody', 'so', 'quick', 'as', 'she', 'has', 'to', 'him', 'i', 'hope', 'you', 'like', 'him', 'too', 'said', 'mr', 'wright', 'hes', 'a', 'dear', 'said', 'bella', 'fancy', 'having', 'all', 'that', 'money', 'i', 'wonder', 'what', 'it', 'feels', 'like', 'i', 'suppose', 'i', 'shall', 'know', 'some', 'day', 'said', 'the', 'young', 'man', 'slowly', 'but', 'it', 'wont', 'be', 'much', 'good', 'to', 'me', 'unless', 'unless', 'said', 'bella', 'after', 'a', 'pause', 'unless', 'it', 'gives', 'me', 'what', 'i', 'want', 'replied', 'the', 'other', 'id', 'sooner', 'be', 'a', 'poor', 'man', 'and', 'married', 'to', 'the', 'girl', 'i', 'love', 'than', 'a', 'millionaire', 'miss', 'bradshaw', 'stole', 'an', 'uneasy', 'glance', 'at', 'his', 'somewhat', 'sallow', 'features', 'and', 'became', 'thoughtful', 'its', 'no', 'good', 'having', 'diamonds', 'and', 'motorcars', 'and', 'that', 'sort', 'of', 'thing', 'unless', 'you', 'have', 'somebody', 'to', 'share', 'them', 'with', 'pursued', 'mr', 'wright', 'miss', 'bradshaws', 'eyes', 'sparkled', 'and', 'at', 'that', 'moment', 'the', 'shopbell', 'tinkled', 'and', 'a', 'lively', 'whistle', 'sounded', 'she', 'rose', 'and', 'went', 'into', 'the', 'shop', 'and', 'mr', 'wright', 'settled', 'back', 'in', 'his', 'chair', 'and', 'scowled', 'darkly', 'as', 'he', 'saw', 'the', 'intruder', 'good', 'evening', 'said', 'the', 'latter', 'i', 'want', 'a', 'sixpenny', 'smoke', 'for', 'twopence', 'please', 'how', 'are', 'we', 'this', 'evening', 'sitting', 'up', 'and', 'taking', 'nourishment', 'miss', 'bradshaw', 'told', 'him', 'to', 'behave', 'himself', 'always', 'do', 'said', 'the', 'young', 'man', 'thats', 'why', 'i', 'can', 'never', 'get', 'anybody', 'to', 'play', 'with', 'i', 'had', 'such', 'an', 'awful', 'dream', 'about', 'you', 'last', 'night', 'that', 'i', 'couldnt', 'rest', 'till', 'i', 'saw', 'you', 'awful', 'it', 'was', 'what', 'was', 'it', 'inquired', 'miss', 'bradshaw', 'dreamt', 'you', 'were', 'married', 'said', 'mr', 'hills', 'smiling', 'at', 'her', 'miss', 'bradshaw', 'tossed', 'her', 'head', 'who', 'to', 'pray', 'she', 'inquired', 'me', 'said', 'mr', 'hills', 'simply', 'i', 'woke', 'up', 'in', 'a', 'cold', 'perspiration', 'halloa', 'is', 'that', 'georgie', 'in', 'there', 'how', 'are', 'you', 'george', 'better', 'im', 'all', 'right', 'said', 'mr', 'wright', 'with', 'dignity', 'as', 'the', 'other', 'hooked', 'the', 'door', 'open', 'with', 'his', 'stick', 'and', 'nodded', 'at', 'him', 'well', 'why', 'dont', 'you', 'look', 'it', 'demanded', 'the', 'lively', 'mr', 'hills', 'have', 'you', 'got', 'your', 'feet', 'wet', 'or', 'what', 'oh', 'be', 'quiet', 'said', 'miss', 'bradshaw', 'smiling', 'at', 'him', 'righto', 'said', 'mr', 'hills', 'dropping', 'into', 'a', 'chair', 'by', 'the', 'counter', 'and', 'caressing', 'his', 'moustache', 'but', 'you', 'wouldnt', 'speak', 'to', 'me', 'like', 'that', 'if', 'you', 'knew', 'what', 'a', 'terrible', 'day', 'ive', 'had', 'what', 'have', 'you', 'been', 'doing', 'asked', 'the', 'girl', 'working', 'said', 'the', 'other', 'with', 'a', 'huge', 'sigh', 'wheres', 'the', 'millionaire', 'i', 'came', 'round', 'on', 'purpose', 'to', 'have', 'a', 'look', 'at', 'him', 'him', 'and', 'mother', 'have', 'gone', 'to', 'the', 'empire', 'said', 'miss', 'bradshaw', 'mr', 'hills', 'gave', 'three', 'long', 'penetrating', 'whistles', 'and', 'then', 'placing', 'his', 'cigar', 'with', 'great', 'care', 'on', 'the', 'counter', 'hid', 'his', 'face', 'in', 'a', 'huge', 'handkerchief', 'miss', 'bradshaw', 'glanced', 'from', 'him', 'to', 'the', 'frowning', 'mr', 'wright', 'and', 'then', 'entering', 'the', 'parlour', 'closed', 'the', 'door', 'with', 'a', 'bang', 'mr', 'hills', 'took', 'the', 'hint', 'and', 'with', 'a', 'somewhat', 'thoughtful', 'grin', 'departed', 'he', 'came', 'in', 'next', 'evening', 'for', 'another', 'cigar', 'and', 'heard', 'all', 'that', 'there', 'was', 'to', 'hear', 'about', 'the', 'empire', 'mrs', 'bradshaw', 'would', 'have', 'treated', 'him', 'but', 'coldly', 'but', 'the', 'innocent', 'mr', 'kemp', 'charmed', 'by', 'his', 'manner', 'paid', 'him', 'great', 'attention', 'hes', 'just', 'like', 'what', 'i', 'was', 'at', 'his', 'age', 'he', 'said', 'lively', 'im', 'not', 'a', 'patch', 'on', 'you', 'said', 'mr', 'hills', 'edging', 'his', 'way', 'by', 'slow', 'degrees', 'into', 'the', 'parlour', 'i', 'dont', 'take', 'young', 'ladies', 'to', 'the', 'empire', 'were', 'you', 'telling', 'me', 'you', 'came', 'over', 'here', 'to', 'get', 'married', 'or', 'did', 'i', 'dream', 'it', 'ark', 'at', 'him', 'said', 'the', 'blushing', 'mr', 'kemp', 'as', 'mrs', 'bradshaw', 'shook', 'her', 'head', 'at', 'the', 'offender', 'and', 'told', 'him', 'to', 'behave', 'himself', 'hes', 'a', 'man', 'any', 'woman', 'might', 'be', 'happy', 'with', 'said', 'mr', 'hills', 'he', 'never', 'knows', 'how', 'much', 'there', 'is', 'in', 'his', 'trouserspocket', 'fancy', 'sewing', 'on', 'buttons', 'for', 'a', 'man', 'like', 'that', 'goldmining', 'aint', 'in', 'it', 'mrs', 'bradshaw', 'shook', 'her', 'head', 'at', 'him', 'again', 'and', 'mr', 'hills', 'after', 'apologizing', 'to', 'her', 'for', 'revealing', 'her', 'innermost', 'thoughts', 'before', 'the', 'most', 'guileless', 'of', 'men', 'began', 'to', 'question', 'mr', 'kemp', 'as', 'to', 'the', 'prospects', 'of', 'a', 'bright', 'and', 'energetic', 'young', 'man', 'with', 'a', 'distaste', 'for', 'work', 'in', 'new', 'zealand', 'the', 'audience', 'listened', 'with', 'keen', 'attention', 'to', 'the', 'replies', 'the', 'only', 'disturbing', 'factor', 'being', 'a', 'cough', 'of', 'mr', 'wrights', 'which', 'became', 'more', 'and', 'more', 'troublesome', 'as', 'the', 'evening', 'wore', 'on', 'by', 'the', 'time', 'uncle', 'and', 'nephew', 'rose', 'to', 'depart', 'the', 'latter', 'was', 'so', 'hoarse', 'that', 'he', 'could', 'scarcely', 'speak', 'why', 'didnt', 'you', 'tell', 'em', 'you', 'had', 'got', 'a', 'letter', 'calling', 'you', 'home', 'as', 'i', 'told', 'you', 'he', 'vociferated', 'as', 'soon', 'as', 'they', 'were', 'clear', 'of', 'the', 'shop', 'ii', 'forgot', 'it', 'said', 'the', 'old', 'man', 'forgot', 'it', 'repeated', 'the', 'incensed', 'mr', 'wright', 'what', 'did', 'you', 'think', 'i', 'was', 'coughing', 'like', 'that', 'forfun', 'i', 'forgot', 'it', 'said', 'the', 'old', 'man', 'doggedly', 'besides', 'if', 'you', 'take', 'my', 'advice', 'youd', 'better', 'let', 'me', 'stay', 'a', 'little', 'longer', 'to', 'make', 'sure', 'of', 'things', 'mr', 'wright', 'laughed', 'disagreeably', 'i', 'dare', 'say', 'he', 'said', 'but', 'i', 'am', 'managing', 'this', 'affair', 'not', 'you', 'now', 'you', 'go', 'round', 'tomorrow', 'afternoon', 'and', 'tell', 'them', 'youre', 'off', 'dye', 'hear', 'dye', 'think', 'im', 'made', 'of', 'money', 'and', 'what', 'do', 'you', 'mean', 'by', 'making', 'such', 'a', 'fuss', 'of', 'that', 'fool', 'charlie', 'hills', 'you', 'know', 'he', 'is', 'after', 'bella', 'he', 'walked', 'the', 'rest', 'of', 'the', 'way', 'home', 'in', 'indignant', 'silence', 'and', 'after', 'giving', 'minute', 'instructions', 'to', 'mr', 'kemp', 'next', 'morning', 'at', 'breakfast', 'went', 'off', 'to', 'work', 'in', 'a', 'more', 'cheerful', 'frame', 'of', 'mind', 'mr', 'kemp', 'was', 'out', 'when', 'he', 'returned', 'and', 'after', 'making', 'his', 'toilet', 'he', 'followed', 'him', 'to', 'mrs', 'bradshaws', 'to', 'his', 'annoyance', 'he', 'found', 'mr', 'hills', 'there', 'again', 'and', 'moreover', 'it', 'soon', 'became', 'clear', 'to', 'him', 'that', 'mr', 'kemp', 'had', 'said', 'nothing', 'about', 'his', 'approaching', 'departure', 'coughs', 'and', 'scowls', 'passed', 'unheeded', 'and', 'at', 'last', 'in', 'a', 'hesitating', 'voice', 'he', 'broached', 'the', 'subject', 'himself', 'there', 'was', 'a', 'general', 'chorus', 'of', 'lamentation', 'i', 'hadnt', 'got', 'the', 'heart', 'to', 'tell', 'you', 'said', 'mr', 'kemp', 'i', 'dont', 'know', 'when', 'ive', 'been', 'so', 'happy', 'but', 'you', 'havent', 'got', 'to', 'go', 'back', 'immediate', 'said', 'mrs', 'bradshaw', 'tomorrow', 'said', 'mr', 'wright', 'before', 'the', 'old', 'man', 'could', 'reply', 'business', 'must', 'you', 'go', 'said', 'mrs', 'bradshaw', 'mr', 'kemp', 'smiled', 'feebly', 'i', 'suppose', 'i', 'ought', 'to', 'he', 'replied', 'in', 'a', 'hesitating', 'voice', 'take', 'my', 'tip', 'and', 'give', 'yourself', 'a', 'bit', 'of', 'a', 'holiday', 'before', 'you', 'go', 'back', 'urged', 'mr', 'hills', 'just', 'for', 'a', 'few', 'days', 'pleaded', 'bella', 'to', 'please', 'us', 'said', 'mrs', 'bradshaw', 'think', 'ow', 'georgell', 'miss', 'you', 'lay', 'hold', 'of', 'him', 'and', 'dont', 'let', 'him', 'go', 'said', 'mr', 'hills', 'he', 'took', 'mr', 'kemp', 'round', 'the', 'waist', 'and', 'the', 'laughing', 'bella', 'and', 'her', 'mother', 'each', 'secured', 'an', 'arm', 'an', 'appeal', 'to', 'mr', 'wright', 'to', 'secure', 'his', 'legs', 'passed', 'unheeded', 'we', 'dont', 'let', 'you', 'go', 'till', 'you', 'promise', 'said', 'mrs', 'bradshaw', 'mr', 'kemp', 'smiled', 'and', 'shook', 'his', 'head', 'promise', 'said', 'bella', 'well', 'well', 'said', 'mr', 'kemp', 'praps', 'he', 'must', 'go', 'back', 'shouted', 'the', 'alarmed', 'mr', 'wright', 'let', 'him', 'speak', 'for', 'himself', 'exclaimed', 'bella', 'indignantly', 'just', 'another', 'week', 'then', 'said', 'mr', 'kemp', 'its', 'no', 'good', 'having', 'money', 'if', 'i', 'cant', 'please', 'myself', 'a', 'week', 'shouted', 'mr', 'wright', 'almost', 'beside', 'himself', 'with', 'rage', 'and', 'dismay', 'a', 'week', 'another', 'week', 'why', 'you', 'told', 'me', 'oh', 'dont', 'listen', 'to', 'him', 'said', 'mrs', 'bradshaw', 'croaker', 'its', 'his', 'own', 'business', 'aint', 'it', 'and', 'he', 'knows', 'best', 'dont', 'he', 'whats', 'it', 'got', 'to', 'do', 'with', 'you', 'she', 'patted', 'mr', 'kemps', 'hand', 'mr', 'kemp', 'patted', 'back', 'and', 'with', 'his', 'disengaged', 'hand', 'helped', 'himself', 'to', 'a', 'glass', 'of', 'beerthe', 'fourthand', 'beamed', 'in', 'a', 'friendly', 'fashion', 'upon', 'the', 'company', 'george', 'he', 'said', 'suddenly', 'yes', 'said', 'mr', 'wright', 'in', 'a', 'harsh', 'voice', 'did', 'you', 'think', 'to', 'bring', 'my', 'pocketbook', 'along', 'with', 'you', 'no', 'said', 'mr', 'wright', 'sharply', 'i', 'didnt', 'tttt', 'said', 'the', 'old', 'man', 'with', 'a', 'gesture', 'of', 'annoyance', 'well', 'lend', 'me', 'a', 'couple', 'of', 'pounds', 'then', 'or', 'else', 'run', 'back', 'and', 'fetch', 'my', 'pocketbook', 'he', 'added', 'with', 'a', 'sly', 'grin', 'mr', 'wrights', 'face', 'worked', 'with', 'impotent', 'fury', 'whatwhatdo', 'youwant', 'it', 'for', 'he', 'gasped', 'mrs', 'bradshaws', 'well', 'well', 'seemed', 'to', 'sum', 'up', 'the', 'general', 'feeling', 'mr', 'kemp', 'shaking', 'his', 'head', 'eyed', 'him', 'with', 'gentle', 'reproach', 'me', 'and', 'mrs', 'bradshaw', 'are', 'going', 'to', 'gave', 'another', 'evening', 'out', 'he', 'said', 'quietly', 'ive', 'only', 'got', 'a', 'few', 'more', 'days', 'and', 'i', 'must', 'make', 'hay', 'while', 'the', 'sun', 'shines', 'to', 'mr', 'wright', 'the', 'room', 'seemed', 'to', 'revolve', 'slowly', 'on', 'its', 'axis', 'but', 'regaining', 'his', 'selfpossession', 'by', 'a', 'supreme', 'effort', 'he', 'took', 'out', 'his', 'purse', 'and', 'produced', 'the', 'amount', 'mrs', 'bradshaw', 'after', 'a', 'few', 'feminine', 'protestations', 'went', 'upstairs', 'to', 'put', 'her', 'bonnet', 'on', 'and', 'you', 'can', 'go', 'and', 'fetch', 'a', 'hansomcab', 'george', 'while', 'shes', 'adoing', 'of', 'it', 'said', 'mr', 'kemp', 'pick', 'out', 'a', 'good', 'orsespottedgrey', 'if', 'you', 'can', 'mr', 'wright', 'arose', 'and', 'departing', 'with', 'a', 'suddenness', 'that', 'was', 'almost', 'startling', 'exploded', 'harmlessly', 'in', 'front', 'of', 'the', 'barbers', 'next', 'door', 'but', 'one', 'then', 'with', 'lagging', 'steps', 'he', 'went', 'in', 'search', 'of', 'the', 'shabbiest', 'cab', 'and', 'oldest', 'horse', 'he', 'could', 'find', 'thankee', 'my', 'boy', 'said', 'mr', 'kemp', 'bluffly', 'as', 'he', 'helped', 'mrs', 'bradshaw', 'in', 'and', 'stood', 'with', 'his', 'foot', 'on', 'the', 'step', 'by', 'the', 'way', 'you', 'had', 'better', 'go', 'back', 'and', 'lock', 'my', 'pocketbook', 'up', 'i', 'left', 'it', 'on', 'the', 'washstand', 'and', 'theres', 'best', 'part', 'of', 'a', 'thousand', 'pounds', 'in', 'it', 'you', 'can', 'take', 'fifty', 'for', 'yourself', 'to', 'buy', 'smokes', 'with', 'there', 'was', 'a', 'murmur', 'of', 'admiration', 'and', 'mr', 'wright', 'with', 'a', 'frantic', 'attempt', 'to', 'keep', 'up', 'appearances', 'tried', 'to', 'thank', 'him', 'but', 'in', 'vain', 'long', 'after', 'the', 'cab', 'had', 'rolled', 'away', 'he', 'stood', 'on', 'the', 'pavement', 'trying', 'to', 'think', 'out', 'a', 'position', 'which', 'was', 'rapidly', 'becoming', 'unendurable', 'still', 'keeping', 'up', 'appearances', 'he', 'had', 'to', 'pretend', 'to', 'go', 'home', 'to', 'look', 'after', 'the', 'pocketbook', 'leaving', 'the', 'jubilant', 'mr', 'hills', 'to', 'improve', 'the', 'shining', 'hour', 'with', 'miss', 'bradshaw', 'mr', 'kemp', 'returning', 'home', 'at', 'midnightin', 'a', 'cabfound', 'the', 'young', 'man', 'waiting', 'up', 'for', 'him', 'and', 'taking', 'a', 'seat', 'on', 'the', 'edge', 'of', 'the', 'table', 'listened', 'unmoved', 'to', 'a', 'wordpicture', 'of', 'himself', 'which', 'seemed', 'interminable', 'he', 'was', 'only', 'moved', 'to', 'speech', 'when', 'mr', 'wright', 'described', 'him', 'as', 'a', 'whitewhiskered', 'jezebel', 'who', 'was', 'a', 'disgrace', 'to']\n"
          ]
        }
      ],
      "source": [
        "print(train)"
      ]
    },
    {
      "cell_type": "code",
      "execution_count": 11,
      "metadata": {
        "colab": {
          "base_uri": "https://localhost:8080/"
        },
        "id": "pHo_6kHFcy5B",
        "outputId": "8da77bb0-6592-4df9-ae43-e0d093ddead4"
      },
      "outputs": [
        {
          "name": "stdout",
          "output_type": "stream",
          "text": [
            "['his', 'sex', 'and', 'then', 'merely', 'in', 'the', 'interests', 'of', 'natural', 'science', 'dont', 'you', 'worry', 'he', 'said', 'as', 'the', 'other', 'paused', 'from', 'exhaustion', 'it', 'wont', 'be', 'for', 'long', 'now', 'long', 'said', 'mr', 'wright', 'panting', 'first', 'thing', 'tomorrow', 'morning', 'you', 'have', 'a', 'telegram', 'calling', 'you', 'backa', 'telegram', 'that', 'must', 'be', 'minded', 'dye', 'see', 'no', 'i', 'dont', 'said', 'mr', 'kemp', 'plainly', 'im', 'not', 'going', 'back', 'never', 'no', 'morenever', 'im', 'going', 'to', 'stop', 'here', 'and', 'court', 'mrs', 'bradshaw', 'mr', 'wright', 'fought', 'for', 'breath', 'youyou', 'cant', 'he', 'gasped', 'im', 'going', 'to', 'have', 'a', 'try', 'said', 'the', 'old', 'man', 'im', 'sick', 'of', 'going', 'to', 'sea', 'and', 'itll', 'be', 'a', 'nice', 'comfortable', 'home', 'for', 'my', 'old', 'age', 'you', 'marry', 'bella', 'and', 'ill', 'marry', 'her', 'mother', 'happy', 'family', 'mr', 'wright', 'trembling', 'with', 'rage', 'sat', 'down', 'to', 'recover', 'and', 'regaining', 'his', 'composure', 'after', 'a', 'time', 'pointed', 'out', 'almost', 'calmly', 'the', 'various', 'difficulties', 'in', 'the', 'way', 'ive', 'thought', 'it', 'all', 'out', 'said', 'mr', 'kemp', 'nodding', 'she', 'mustnt', 'know', 'im', 'not', 'rich', 'till', 'after', 'were', 'married', 'then', 'i', 'ave', 'a', 'letter', 'from', 'new', 'zealand', 'saying', 'ive', 'lost', 'all', 'my', 'money', 'its', 'just', 'as', 'easy', 'to', 'have', 'that', 'letter', 'as', 'the', 'one', 'you', 'spoke', 'of', 'and', 'im', 'to', 'find', 'you', 'money', 'to', 'play', 'the', 'rich', 'uncle', 'with', 'till', 'youre', 'married', 'i', 'suppose', 'said', 'mr', 'wright', 'in', 'a', 'grating', 'voice', 'and', 'then', 'lose', 'bella', 'when', 'mrs', 'bradshaw', 'finds', 'youve', 'lost', 'your', 'money', 'mr', 'kemp', 'scratched', 'his', 'ear', 'thats', 'your', 'lookout', 'he', 'said', 'at', 'last', 'now', 'look', 'here', 'said', 'mr', 'wright', 'with', 'great', 'determination', 'either', 'you', 'go', 'and', 'tell', 'them', 'that', 'youve', 'been', 'telegraphed', 'forcabled', 'is', 'the', 'proper', 'wordor', 'i', 'tell', 'them', 'the', 'truth', 'thatll', 'settle', 'you', 'then', 'said', 'mr', 'kemp', 'no', 'more', 'than', 'the', 'other', 'would', 'retorted', 'the', 'young', 'man', 'and', 'itll', 'come', 'cheaper', 'one', 'thing', 'ill', 'take', 'my', 'oath', 'of', 'and', 'that', 'is', 'i', 'wont', 'give', 'you', 'another', 'farthing', 'but', 'if', 'you', 'do', 'as', 'i', 'tell', 'you', 'ill', 'give', 'you', 'a', 'quid', 'for', 'luck', 'now', 'think', 'it', 'over', 'mr', 'kemp', 'thought', 'it', 'over', 'and', 'after', 'a', 'vain', 'attempt', 'to', 'raise', 'the', 'promised', 'reward', 'to', 'five', 'pounds', 'finally', 'compounded', 'for', 'two', 'and', 'went', 'off', 'to', 'bed', 'after', 'a', 'few', 'stormy', 'words', 'on', 'selfishness', 'and', 'ingratitude', 'he', 'declined', 'to', 'speak', 'to', 'his', 'host', 'at', 'breakfast', 'next', 'morning', 'and', 'accompanied', 'him', 'in', 'the', 'evening', 'with', 'the', 'air', 'of', 'a', 'martyr', 'going', 'to', 'the', 'stake', 'he', 'listened', 'in', 'stony', 'silence', 'to', 'the', 'young', 'mans', 'instructions', 'and', 'only', 'spoke', 'when', 'the', 'latter', 'refused', 'to', 'pay', 'the', 'two', 'pounds', 'in', 'advance', 'the', 'news', 'communicated', 'in', 'halting', 'accents', 'by', 'mr', 'kemp', 'was', 'received', 'with', 'flattering', 'dismay', 'mrs', 'bradshaw', 'refused', 'to', 'believe', 'her', 'ears', 'and', 'it', 'was', 'only', 'after', 'the', 'information', 'had', 'been', 'repeated', 'and', 'confirmed', 'by', 'mr', 'wright', 'that', 'she', 'understood', 'i', 'must', 'go', 'said', 'mr', 'kemp', 'ive', 'spent', 'over', 'eleven', 'pounds', 'cabling', 'today', 'but', 'its', 'all', 'no', 'good', 'but', 'youre', 'coming', 'back', 'said', 'mr', 'hills', 'o', 'course', 'i', 'am', 'was', 'the', 'reply', 'george', 'is', 'the', 'only', 'relation', 'ive', 'got', 'and', 'ive', 'got', 'to', 'look', 'after', 'him', 'i', 'suppose', 'after', 'all', 'blood', 'is', 'thicker', 'than', 'water', 'hear', 'hear', 'said', 'mrs', 'bradshaw', 'piously', 'and', 'theres', 'you', 'and', 'bella', 'continued', 'mr', 'kemp', 'two', 'of', 'the', 'best', 'that', 'ever', 'breathed', 'the', 'ladies', 'looked', 'down', 'and', 'charlie', 'hills', 'i', 'dont', 'knowi', 'dont', 'know', 'iwheni', 'ive', 'took', 'such', 'a', 'fancy', 'to', 'anybody', 'as', 'i', 'have', 'to', 'im', 'if', 'i', 'was', 'a', 'young', 'gala', 'single', 'young', 'galhesthe', 'other', 'half', 'he', 'said', 'slowly', 'as', 'he', 'pausedjust', 'the', 'one', 'i', 'should', 'fancy', 'hes', 'a', 'goodarted', 'goodlooking', 'draw', 'it', 'mild', 'interrupted', 'the', 'blushing', 'mr', 'hills', 'as', 'mr', 'wright', 'bestowed', 'a', 'ferocious', 'glance', 'upon', 'the', 'speaker', 'clever', 'lively', 'young', 'fellow', 'concluded', 'mr', 'kemp', 'george', 'yes', 'said', 'mr', 'wright', 'im', 'going', 'now', 'ive', 'got', 'to', 'catch', 'the', 'train', 'for', 'southampton', 'but', 'i', 'dont', 'want', 'you', 'to', 'come', 'with', 'me', 'i', 'prefer', 'to', 'be', 'alone', 'you', 'stay', 'here', 'and', 'cheer', 'them', 'up', 'oh', 'and', 'before', 'i', 'forget', 'it', 'lend', 'me', 'a', 'couple', 'o', 'pounds', 'out', 'o', 'that', 'fifty', 'i', 'gave', 'you', 'last', 'night', 'ive', 'given', 'all', 'my', 'small', 'change', 'away', 'he', 'looked', 'up', 'and', 'met', 'mr', 'wrights', 'eye', 'the', 'latter', 'too', 'affected', 'to', 'speak', 'took', 'out', 'the', 'money', 'and', 'passed', 'it', 'over', 'we', 'never', 'know', 'what', 'may', 'happen', 'to', 'us', 'said', 'the', 'old', 'man', 'solemnly', 'as', 'he', 'rose', 'and', 'buttoned', 'his', 'coat', 'im', 'an', 'old', 'man', 'and', 'i', 'like', 'to', 'have', 'things', 'shipshape', 'ive', 'spent', 'nearly', 'the', 'whole', 'day', 'with', 'my', 'lawyer', 'and', 'if', 'anything', 'appens', 'to', 'my', 'old', 'carcass', 'it', 'wont', 'make', 'any', 'difference', 'i', 'have', 'left', 'half', 'my', 'money', 'to', 'george', 'half', 'of', 'all', 'i', 'have', 'is', 'to', 'be', 'his', 'in', 'the', 'midst', 'of', 'an', 'awed', 'silence', 'he', 'went', 'round', 'and', 'shook', 'hands', 'the', 'other', 'half', 'with', 'his', 'hand', 'on', 'the', 'doorthe', 'other', 'half', 'and', 'my', 'best', 'gold', 'watch', 'and', 'chain', 'i', 'have', 'left', 'to', 'my', 'dear', 'young', 'pal', 'charlie', 'hills', 'goodbye', 'georgie']\n"
          ]
        }
      ],
      "source": [
        "print(test)"
      ]
    },
    {
      "cell_type": "code",
      "execution_count": 12,
      "metadata": {
        "id": "z3vYxp7gxuGn"
      },
      "outputs": [],
      "source": [
        "vocab, _ = train_test_split(cleaned_text, test_size=0.2, random_state=42)"
      ]
    },
    {
      "cell_type": "code",
      "execution_count": 13,
      "metadata": {
        "id": "GmtkgJrAyHQ3"
      },
      "outputs": [],
      "source": [
        "vocab = set(vocab)"
      ]
    },
    {
      "cell_type": "code",
      "execution_count": 14,
      "metadata": {
        "id": "qUx9MMhEFRvH"
      },
      "outputs": [],
      "source": [
        "vocab_size = len(vocab)"
      ]
    },
    {
      "cell_type": "code",
      "execution_count": 15,
      "metadata": {
        "colab": {
          "base_uri": "https://localhost:8080/"
        },
        "id": "4ylEesuuyc8i",
        "outputId": "8d8b1aa9-ee4a-4ea4-8eb0-0cc914fb50f0"
      },
      "outputs": [
        {
          "name": "stdout",
          "output_type": "stream",
          "text": [
            "{'moment', 'family', 'hesitating', 'listen', 'gasped', 'happen', 'hadnt', 'led', 'her', 'admiring', 'smokes', 'reward', 'reply', 'communicated', 'let', 'deal', 'determination', 'affair', 'drank', 'pausedjust', 'admission', 'beside', 'sailor', 'face', 'must', 'steps', 'meant', 'too', 'last', 'hes', 'cold', 'grin', 'wind', 'long', 'turned', 'court', 'settle', 'leave', 'dignity', 'overdoing', 'chain', 'open', 'eyes', 'produced', 'coughing', 'quid', 'zealand', 'dream', 'plainly', 'hand', 'street', 'well', 'home', 'wants', 'lose', 'interrupted', 'secure', 'had', 'mother', 'praps', 'seems', 'cigars', 'difficulties', 'finally', 'feminine', 'towards', 'chilljust', 'expenditure', 'us', 'another', 'wrights', 'easy', 'can', 'wealth', 'something', 'watch', 'charmed', 'fancy', 'says', 'following', 'cough', 'words', 'breakfast', 'simple', 'dear', 'lasted', 'sun', 'calling', 'a', 'emptied', 'uncle', 'his', 'annoyance', 'year', 'penetrating', 'difference', 'having', 'three', 'either', 'natural', 'dimensions', 'bradshaw', 'behind', 'better', 'get', 'depart', 'knocked', 'though', 'moustache', 'somewhat', 'call', 'incurred', 'carcass', 'theres', 'feels', 'supper', 'smelling', 'any', 'empire', 'shall', 'exclaimed', 'hastily', 'departing', 'mystified', 'thankee', 'cabfound', 'my', 'departure', 'paused', 'after', 'discovered', 'shop', 'wound', 'lagging', 'who', 'cheaper', 'itll', 'avoided', 'but', 'took', 'described', 'seat', 'waistcoatpocket', 'halting', 'kindly', 'compounded', 'scarcely', 'dont', 'set', 'ears', 'shook', 'feel', 'energetic', 'disturbing', 'frowned', 'hands', 'live', 'feather', 'edging', 'appearances', 'mans', 'morning', 'raising', 'vain', 'croaker', 'dressed', 'shabbiest', 'image', 'shaking', 'she', 'placing', 'taking', 'when', 'latter', 'eh', 'archly', 'arm', 'hope', 'we', 'way', 'fifty', 'game', 'sixpenny', 'glass', 'leaning', 'wonder', 'pleasure', 'breathed', 'hold', 'tomorrow', 'large', 'affected', 'time', 'comfortable', 'subsiding', 'sitting', 'immediate', 'bed', 'host', 'promise', 'medical', 'youwant', 'this', 'was', 'shining', 'dare', 'solemnly', 'o', 'what', 'ladies', 'first', 'youre', 'smoke', 'farthing', 'panting', 'stood', 'afore', 'think', 'approaching', 'contained', 'than', 'behave', 'knew', 'chap', 'friendly', 'good', 'more', 'composure', 'luck', 'waiting', 'pondered', 'motherinlaw', 'forgot', 'where', 'pray', 'couldnt', 'found', 'prompted', 'few', 'hear', 'is', 'longer', 'gone', 'fuss', 'run', 'gesture', 'glance', 'closed', 'buttons', 'rage', 'wonderful', 'days', 'wet', 'becoming', 'making', 'met', 'breath', 'right', 'tinkled', 'ave', 'whitewhiskered', 'went', 'length', 'slow', 'holiday', 'just', 'coat', 'now', 'lively', 'fellow', 'me', 'stimulant', 'bonnet', 'midnightin', 'gold', 'at', 'trembling', 'thatll', 'as', 'useless', 'living', 'far', 'georgell', 'nodding', 'side', 'afternoon', 'drawer', 'scratched', 'interminable', 'patted', 'listeners', 'edge', 'sly', 'kemps', 'twopence', 'leaving', 'said', 'aye', 'change', 'scowled', 'chorus', 'heart', 'seemed', 'youve', 'like', 'heard', 'gentle', 'should', 'science', 'broached', 'do', 'galhesthe', 'front', 'pausing', 'slowly', 'lend', 'turn', 'sharply', 'suffer', 'worked', 'protestations', 'take', 'coming', 'whats', 'try', 'declined', 'being', 'clear', 'backa', 'so', 'in', 'awed', 'manner', 'demanded', 'before', 'ingratitude', 'wont', 'make', 'were', 'know', 'spose', 'im', 'tales', 'by', 'ii', 'thought', 'boots', 'calmly', 'want', 'suddenly', 'such', 'chuck', 'have', 'cabs', 'pay', 'feeling', 'forth', 'known', 'rapidly', 'shes', 'promising', 'unendurable', 'one', 'on', 'alone', 'cigar', 'legs', 'exhaustion', 'cab', 'him', 'same', 'dye', 'bit', 'night', 'oldest', 'buy', 'latters', 'adoing', 'thered', 'barbers', 'thats', 'matter', 'sum', 'only', 'question', 'reproach', 'shipshape', 'happy', 'out', 'week', 'while', 'wateri', 'selfpossession', 'cheerful', 'go', 'piously', 'stop', 'he', 'himself', 'advice', 'knows', 'sewing', 'young', 'down', 'bang', 'returned', 'into', 'upstairs', 'nephew', 'eye', 'enjoy', 'general', 'here', 'great', 'ad', 'thing', 'walked', 'expected', 'horse', 'nudge', 'be', 'hoarse', 'working', 'features', 'away', 'groaned', 'people', 'expensive', 'goes', 'treated', 'doorthe', 'fourthand', 'fortune', 'not', 'retorted', 'feet', 'sort', 'millionaire', 'flushed', 'thank', 'goodarted', 'couple', 'replied', 'note', 'suppose', 'sure', 'pleaded', 'awful', 'history', 'innocent', 'lodgings', 'till', 'from', 'gala', 'tell', 'somea', 'all', 'give', 'always', 'clever', 'fought', 'invited', 'cabling', 'bulging', 'and', 'without', 'timely', 'yes', 'fiftypound', 'chucked', 'huge', 'nodded', 'care', 'improve', 'bluffly', 'combined', 'smiled', 'voice', 'goldmining', 'martyr', 'lock', 'pocketbook', 'dreamt', 'simply', 'disengaged', 'besides', 'youll', 'keen', 'ark', 'lamentation', 'round', 'paid', 'aint', 'little', 'breastpocket', 'necessary', 'laughing', 'you', 'bedroom', 'ceremony', 'amount', 'boardinghouse', 'motorcars', 'whatwhatdo', 'no', 'life', 'man', 'impotent', 'troublesome', 'sovereigns', 'attempt', 'report', 'fetched', 'gilded', 'lookout', 'charlie', 'marry', 'write', 'managing', 'apologizing', 'raise', 'up', 'intended', 'person', 'half', 'head', 'called', 'love', 'accompanied', 'lowering', 'purpose', 'left', 'keep', 'them', 'wright', 'therell', 'about', 'with', 'pal', 'quite', 'wore', 'tobacconists', 'myself', 'cheer', 'tried', 'knowi', 'youyou', 'rolled', 'rose', 'bank', 'going', 'evening', 'i', 'merely', 'concealing', 'poor', 'air', 'cost', 'to', 'they', 'nature', 'course', 'selfishness', 'silence', 'also', 'wheres', 'then', 'chatting', 'flattering', 'minute', 'does', 'truth', 'beerthe', 'youd', 'havent', 'for', 'mr', 'why', 'goodlooking', 'look', 'together', 'sea', 'talking', 'departed', 'staying', 'offender', 'dismay', 'are', 'murmur', 'jezebel', 'fetch', 'past', 'toilet', 'considered', 'spent', 'bradshaws', 'dessay', 'extravagant', 'spoke', 'didnt', 'has', 'cant', 'recover', 'settled', 'distaste', 'held', 'drowned', 'moreover', 'adopting', 'careful', 'please', 'goodbye', 'other', 'sooner', 'began', 'water', 'interests', 'sallow', 'quick', 'shopbell', 'manage', 'mind', 'anything', 'appeared', 'hour', 'certain', 'tip', 'minded', 'of', 'fury', 'accents', 'wordor', 'bones', 'teetotalism', 'oath', 'blood', 'uneasy', 'ow', 'handkerchief', 'blushing', 'bella', 'stick', 'arose', 'seen', 'orsespottedgrey', 'speaking', 'ever', 'waited', 'some', 'enthralled', 'feebly', 'headache', 'girl', 'fact', 'since', 'might', 'hooked', 'nothing', 'ive', 'terrible', 'attention', 'done', 'its', 'your', 'pavement', 'hotly', 'exploded', 'ill', 'lent', 'stay', 'george', 'mug', 'ordered', 'whole', 'somebody', 'grievance', 'helped', 'table', 'degrees', 'misunderstandings', 'ten', 'washstand', 'mean', 'lawyer', 'fall', 'new', 'spending', 'lips', 'overboard', 'indignantly', 'world', 'beamed', 'wordpicture', 'regaining', 'speak', 'caressing', 'kemp', 'confirmed', 'soon', 'relation', 'disagreeably', 'iwheni', 'thoughts', 'laughed', 'understood', 'indignant', 'almost', 'pointed', 'most', 'horrified', 'which', 'an', 'find', 'disgrace', 'righto', 'work', 'day', 'hansomcab', 'woman', 'upon', 'parlour', 'would', 'unless', 'characterized', 'fair', 'there', 'buttoned', 'squint', 'miss', 'it', 'southampton', 'next', 'repeated', 'revolve', 'secured', 'purse', 'supreme', 'patch', 'chest', 'sigh', 'inquired', 'bestowed', 'company', 'may', 'frantic', 'doing', 'these', 'finds', 'very', 'instructions', 'prefer', 'smiling', 'mindful', 'speaker', 'given', 'else', 'haste', 'am', 'spend', 'come', 'did', 'tossed', 'clothes', 'or', 'mustnt', 'expenses', 'beer', 'finger', 'passed', 'thoughtful', 'saying', 'concluded', 'subject', 'listened', 'things', 'neck', 'startling', 'old', 'over', 'felt', 'audience', 'diamonds', 'hills', 'suit', 'became', 'gives', 'lost', 'assumed', 'forfun', 'got', 'pounds', 'rich', 'hid', 'perspiration', 'been', 'prospects', 'shines', 'yourself', 'calculation', 'part', 'herill', 'bar', 'soft', 'never', 'harmlessly', 'sparkled', 'rest', 'factor', 'morenever', 'still', 'lady', 'pause', 'admiration', 'scowls', 'innermost', 'illustration', 'asked', 'fool', 'assented', 'say', 'search', 'sixpence', 'frowning', 'midst', 'mrs', 'share', 'holding', 'obeyed', 'saw', 'came', 'hat', 'mile', 'pick', 'coughs', 'see', 'play', 'stake', 'harsh', 'coldly', 'entering', 'sounded', 'back', 'waist', 'received', 'possession', 'letter', 'made', 'gave', 'money', 'chill', 'speech', 'years', 'could', 'effort', 'small', 'if', 'giving', 'whistle', 'tttt', 'refused', 'lay', 'anybody', 'counter', 'forget', 'how', 'eleven', 'ought', 'two', 'nourishment', 'again', 'axis', 'oh', 'surprise', 'position', 'advance', 'stocked', 'minutes', 'that', 'much', 'id', 'chair', 'quietly', 'georgie', 'quiet', 'off', 'em', 'worry', 'unheeded', 'urged', 'business', 'five', 'paying', 'outside', 'vociferated', 'appeal', 'men', 'struggles', 'sat', 'married', 'responsible', 'the', 'candidly', 'best', 'room', 'alarmed', 'door', 'guileless', 'fashion', 'own', 'put', 'woke', 'added', 'told', 'age', 'midway', 'glanced', 'hay', 'trouserspocket', 'revealing'}\n"
          ]
        }
      ],
      "source": [
        "print(vocab)"
      ]
    },
    {
      "cell_type": "code",
      "execution_count": 16,
      "metadata": {
        "colab": {
          "base_uri": "https://localhost:8080/"
        },
        "id": "j7De6RrUdekH",
        "outputId": "fabfe1da-7145-4541-f548-a369689c39c2"
      },
      "outputs": [
        {
          "name": "stdout",
          "output_type": "stream",
          "text": [
            "86\n",
            "919\n",
            "804\n",
            "3216\n"
          ]
        }
      ],
      "source": [
        "#vocab_test = set(test)\n",
        "ct1= 0\n",
        "for word in train:\n",
        "  if word not in vocab:\n",
        "    ct1+=1\n",
        "\n",
        "print(ct1)\n",
        "print(len(vocab))\n",
        "print(len(test))\n",
        "print(len(train))"
      ]
    },
    {
      "cell_type": "code",
      "execution_count": 17,
      "metadata": {
        "colab": {
          "base_uri": "https://localhost:8080/"
        },
        "id": "JX4BJpZEy_J7",
        "outputId": "dcebccdf-68b0-4cb2-f0ca-ec6faed7eb7e"
      },
      "outputs": [
        {
          "name": "stdout",
          "output_type": "stream",
          "text": [
            "30\n"
          ]
        }
      ],
      "source": [
        "ct=0\n",
        "for word in test:\n",
        "  if word not in vocab:\n",
        "    ct+=1\n",
        "print(ct)"
      ]
    },
    {
      "cell_type": "code",
      "execution_count": 18,
      "metadata": {
        "id": "OICmSuEXy_In"
      },
      "outputs": [],
      "source": [
        "word_to_ix = {word: i+1 for i, word in enumerate(vocab)}"
      ]
    },
    {
      "cell_type": "code",
      "execution_count": 19,
      "metadata": {
        "id": "7XI1sb1CGA8O"
      },
      "outputs": [],
      "source": [
        "word_to_ix['<UNK>'] = 0"
      ]
    },
    {
      "cell_type": "code",
      "execution_count": 20,
      "metadata": {
        "colab": {
          "base_uri": "https://localhost:8080/"
        },
        "id": "Th0W5qrs2dyR",
        "outputId": "15ccdeb5-709b-44e7-a4f8-ec0fdb0bdf96"
      },
      "outputs": [
        {
          "name": "stdout",
          "output_type": "stream",
          "text": [
            "553\n"
          ]
        }
      ],
      "source": [
        "print(word_to_ix['i'])"
      ]
    },
    {
      "cell_type": "code",
      "execution_count": 22,
      "metadata": {
        "id": "h7kczLb-RtL9"
      },
      "outputs": [],
      "source": [
        "ix_to_word = {}"
      ]
    },
    {
      "cell_type": "code",
      "execution_count": 23,
      "metadata": {
        "id": "Zbz-009fRW1E"
      },
      "outputs": [],
      "source": [
        "for key, val in word_to_ix.items():\n",
        "  ix_to_word[val] = key"
      ]
    },
    {
      "cell_type": "code",
      "execution_count": 25,
      "metadata": {
        "id": "jXe6A5bWGOvM"
      },
      "outputs": [],
      "source": [
        "CONTEXT_SIZE = 2"
      ]
    },
    {
      "cell_type": "code",
      "execution_count": 26,
      "metadata": {
        "colab": {
          "base_uri": "https://localhost:8080/"
        },
        "id": "ylBwQakHGahn",
        "outputId": "9e9269d8-9f70-40aa-eb12-ce6fc5c9aabb"
      },
      "outputs": [
        {
          "name": "stdout",
          "output_type": "stream",
          "text": [
            "[(['i', 'what', 'you', 'to'], 'want'), (['want', 'i', 'to', 'do'], 'you'), (['you', 'want', 'do', 'said'], 'to'), (['to', 'you', 'said', 'mr'], 'do'), (['do', 'to', 'mr', 'george'], 'said')]\n"
          ]
        }
      ],
      "source": [
        "data_train = []\n",
        "for i in range(CONTEXT_SIZE, len(train) - CONTEXT_SIZE):\n",
        "    context = (\n",
        "        [train[i - j - 1] for j in range(CONTEXT_SIZE)]\n",
        "        + [train[i + j + 1] for j in range(CONTEXT_SIZE)]\n",
        "    )\n",
        "    target = train[i]\n",
        "    data_train.append((context, target))\n",
        "print(data_train[:5])\n"
      ]
    },
    {
      "cell_type": "code",
      "execution_count": 27,
      "metadata": {
        "colab": {
          "base_uri": "https://localhost:8080/"
        },
        "id": "SYB-Xx1wIRAz",
        "outputId": "3000c7b2-9db9-43f4-967b-c9b9948581cd"
      },
      "outputs": [
        {
          "name": "stdout",
          "output_type": "stream",
          "text": [
            "[(['sex', 'his', 'then', 'merely'], 'and'), (['and', 'sex', 'merely', 'in'], 'then'), (['then', 'and', 'in', 'the'], 'merely'), (['merely', 'then', 'the', 'interests'], 'in'), (['in', 'merely', 'interests', 'of'], 'the')]\n"
          ]
        }
      ],
      "source": [
        "data_test = []\n",
        "for i in range(CONTEXT_SIZE, len(test) - CONTEXT_SIZE):\n",
        "    context = (\n",
        "        [test[i - j - 1] for j in range(CONTEXT_SIZE)]\n",
        "        + [test[i + j + 1] for j in range(CONTEXT_SIZE)]\n",
        "    )\n",
        "    target = test[i]\n",
        "    data_test.append((context, target))\n",
        "print(data_test[:5])"
      ]
    },
    {
      "cell_type": "code",
      "execution_count": 28,
      "metadata": {
        "id": "k7XB8urSIwVK"
      },
      "outputs": [],
      "source": [
        "def make_context_vector(batches, word_to_ix, vocab):\n",
        "  f_idx = []\n",
        "  f_trg = []\n",
        "  for batch in batches:\n",
        "    lst = []\n",
        "    trg = []\n",
        "    for idx, item in enumerate(batch):\n",
        "      context = item[0]\n",
        "      target = item[1]\n",
        "      lst.append(context)\n",
        "      trg.append(target)\n",
        "    idxs = [[word_to_ix[w] if w in vocab else 0 for w in sample] for sample in lst]\n",
        "    target = [word_to_ix[sample] if sample in vocab else 0 for sample in trg]\n",
        "\n",
        "    f_idx.append(idxs)\n",
        "    f_trg.append(target)\n",
        "  return torch.tensor(f_idx, dtype=torch.long), torch.tensor(f_trg,dtype=torch.long)"
      ]
    },
    {
      "cell_type": "code",
      "execution_count": 29,
      "metadata": {
        "id": "Whpk0L9F4n2R"
      },
      "outputs": [],
      "source": [
        "batch_size = 64\n",
        "num_batches = len(data_train) // batch_size\n",
        "batches = [data_train[i*batch_size:(i+1)*batch_size] for i in range(num_batches)]\n",
        "\n"
      ]
    },
    {
      "cell_type": "code",
      "execution_count": 30,
      "metadata": {
        "id": "d9GV_BLoPZLz"
      },
      "outputs": [],
      "source": [
        "inputs,targets = make_context_vector(batches, word_to_ix,vocab)"
      ]
    },
    {
      "cell_type": "code",
      "execution_count": 31,
      "metadata": {
        "colab": {
          "base_uri": "https://localhost:8080/"
        },
        "id": "CmjJJDMx-8S-",
        "outputId": "3837ed3c-5f2f-41c7-e403-5ca50e75c753"
      },
      "outputs": [
        {
          "name": "stdout",
          "output_type": "stream",
          "text": [
            "torch.Size([50, 64, 4])\n",
            "torch.Size([50, 64])\n"
          ]
        }
      ],
      "source": [
        "print(inputs.shape)\n",
        "print(targets.shape)"
      ]
    },
    {
      "cell_type": "markdown",
      "metadata": {},
      "source": [
        "# CBOW Model"
      ]
    },
    {
      "cell_type": "code",
      "execution_count": 32,
      "metadata": {
        "id": "cqr0ypzRPp31"
      },
      "outputs": [],
      "source": [
        "class CBOWModel(nn.Module):\n",
        "    def __init__(self, vocab_size, embedding_dim):\n",
        "        super(CBOWModel, self).__init__()\n",
        "        self.embeddings = nn.Embedding(vocab_size+1, embedding_dim)\n",
        "        self.linear = nn.Linear(embedding_dim, vocab_size+1)\n",
        "\n",
        "    def forward(self, inputs):\n",
        "        embedded = self.embeddings(inputs).mean(dim=1)\n",
        "        output = self.linear(embedded)\n",
        "        return output"
      ]
    },
    {
      "cell_type": "code",
      "execution_count": 33,
      "metadata": {
        "id": "8GcpwgUqR2Nv"
      },
      "outputs": [],
      "source": [
        "EMBEDDING_DIM = 300\n",
        "LEARNING_RATE = 0.001"
      ]
    },
    {
      "cell_type": "code",
      "execution_count": 34,
      "metadata": {
        "id": "bhe_w03jRygn"
      },
      "outputs": [],
      "source": [
        "model = CBOWModel(vocab_size, EMBEDDING_DIM)\n",
        "criterion = nn.CrossEntropyLoss()\n",
        "optimizer = optim.Adam(model.parameters(), lr=LEARNING_RATE)"
      ]
    },
    {
      "cell_type": "code",
      "execution_count": 35,
      "metadata": {
        "id": "ajr8vISm_NkE"
      },
      "outputs": [],
      "source": [
        "NUM_EPOCHS=30"
      ]
    },
    {
      "cell_type": "code",
      "execution_count": null,
      "metadata": {
        "colab": {
          "base_uri": "https://localhost:8080/"
        },
        "id": "td78iwu3SC47",
        "outputId": "20de1239-5181-4e7e-81c5-cf6450dbb1dc"
      },
      "outputs": [],
      "source": [
        "for epoch in range(NUM_EPOCHS):\n",
        "        id = 0\n",
        "        total_loss = 0\n",
        "        for input,target in zip(inputs,targets):\n",
        "            optimizer.zero_grad()\n",
        "            outputs = model(input)\n",
        "            loss = criterion(outputs, target)\n",
        "            loss.backward()\n",
        "            optimizer.step()\n",
        "            total_loss += loss.item()\n",
        "\n",
        "            print(f\"Epoch {epoch+1}/{NUM_EPOCHS}, Batch {id+1}/50, Loss: {loss.item()}\")\n",
        "            id+=1\n",
        "        print(f\"Epoch {epoch+1}/{NUM_EPOCHS}, Loss: {total_loss/50}\")"
      ]
    },
    {
      "cell_type": "code",
      "execution_count": 37,
      "metadata": {
        "id": "ZwjfHm7YDW0A"
      },
      "outputs": [],
      "source": [
        "context_tensor ,target = inputs[0], targets[0]"
      ]
    },
    {
      "cell_type": "code",
      "execution_count": 38,
      "metadata": {
        "colab": {
          "base_uri": "https://localhost:8080/"
        },
        "id": "JBlPNC5aEWWb",
        "outputId": "6f926aed-db48-43e9-f264-8d3e83759546"
      },
      "outputs": [
        {
          "name": "stdout",
          "output_type": "stream",
          "text": [
            "tensor(498)\n",
            "tensor(498)\n"
          ]
        }
      ],
      "source": [
        "outputs = model(context_tensor[1].unsqueeze(0))\n",
        "print(torch.argmax(outputs))\n",
        "print(target[1])\n",
        "#print(predicted_word_index)"
      ]
    },
    {
      "cell_type": "code",
      "execution_count": 39,
      "metadata": {
        "id": "q0xyqZ0nUFaV"
      },
      "outputs": [],
      "source": [
        "inputs_test,targets_test = make_context_vector([data_test], word_to_ix,vocab)"
      ]
    },
    {
      "cell_type": "code",
      "execution_count": 40,
      "metadata": {
        "colab": {
          "base_uri": "https://localhost:8080/"
        },
        "id": "uUKTgkQnUSW0",
        "outputId": "bd4bba59-64af-4913-b3e6-5fb5991908ff"
      },
      "outputs": [
        {
          "name": "stdout",
          "output_type": "stream",
          "text": [
            "torch.Size([1, 800, 4])\n",
            "torch.Size([1, 800])\n"
          ]
        }
      ],
      "source": [
        "print(inputs_test.shape)\n",
        "print(targets_test.shape)"
      ]
    },
    {
      "cell_type": "code",
      "execution_count": 41,
      "metadata": {
        "colab": {
          "base_uri": "https://localhost:8080/"
        },
        "id": "KXXt060HUf21",
        "outputId": "0fad1e16-ee0c-4f73-c898-ae59535a1361"
      },
      "outputs": [
        {
          "name": "stdout",
          "output_type": "stream",
          "text": [
            "(['be', 'itll', 'nice', 'comfortable'], 'a')\n",
            "only\n",
            "(['a', 'be', 'comfortable', 'home'], 'nice')\n",
            "i\n",
            "(['nice', 'a', 'home', 'for'], 'comfortable')\n",
            "in\n",
            "(['comfortable', 'nice', 'for', 'my'], 'home')\n",
            "in\n",
            "(['home', 'comfortable', 'my', 'old'], 'for')\n",
            "in\n",
            "(['for', 'home', 'old', 'age'], 'my')\n",
            "man\n",
            "(['my', 'for', 'age', 'you'], 'old')\n",
            "take\n",
            "(['old', 'my', 'you', 'marry'], 'age')\n",
            "said\n",
            "(['age', 'old', 'marry', 'bella'], 'you')\n",
            "said\n",
            "(['you', 'age', 'bella', 'and'], 'marry')\n",
            "have\n",
            "(['marry', 'you', 'and', 'ill'], 'bella')\n",
            "<UNK>\n",
            "(['bella', 'marry', 'ill', 'marry'], 'and')\n",
            "money\n",
            "(['and', 'bella', 'marry', 'her'], 'ill')\n",
            "at\n",
            "(['ill', 'and', 'her', 'mother'], 'marry')\n",
            "<UNK>\n",
            "(['marry', 'ill', 'mother', 'happy'], 'her')\n",
            "money\n",
            "(['her', 'marry', 'happy', 'family'], 'mother')\n",
            "of\n",
            "(['mother', 'her', 'family', 'mr'], 'happy')\n",
            "of\n",
            "(['happy', 'mother', 'mr', 'wright'], 'family')\n",
            "said\n",
            "(['family', 'happy', 'wright', 'trembling'], 'mr')\n",
            "mr\n",
            "(['mr', 'family', 'trembling', 'with'], 'wright')\n",
            "kemp\n",
            "(['wright', 'mr', 'with', 'rage'], 'trembling')\n",
            "said\n",
            "(['trembling', 'wright', 'rage', 'sat'], 'with')\n",
            "mr\n",
            "(['with', 'trembling', 'sat', 'down'], 'rage')\n",
            "a\n",
            "(['rage', 'with', 'down', 'to'], 'sat')\n",
            "me\n",
            "(['sat', 'rage', 'to', 'recover'], 'down')\n",
            "himself\n",
            "(['down', 'sat', 'recover', 'and'], 'to')\n",
            "up\n",
            "(['to', 'down', 'and', 'regaining'], 'recover')\n",
            "up\n",
            "(['recover', 'to', 'regaining', 'his'], 'and')\n",
            "but\n",
            "(['and', 'recover', 'his', 'composure'], 'regaining')\n",
            "stick\n",
            "(['regaining', 'and', 'composure', 'after'], 'his')\n",
            "groaned\n",
            "(['his', 'regaining', 'after', 'a'], 'composure')\n",
            "in\n",
            "(['composure', 'his', 'a', 'time'], 'after')\n",
            "in\n",
            "(['after', 'composure', 'time', 'pointed'], 'a')\n",
            "years\n",
            "(['a', 'after', 'pointed', 'out'], 'time')\n",
            "time\n",
            "(['time', 'a', 'out', 'almost'], 'pointed')\n",
            "in\n",
            "(['pointed', 'time', 'almost', 'calmly'], 'out')\n",
            "<UNK>\n",
            "(['out', 'pointed', 'calmly', 'the'], 'almost')\n",
            "<UNK>\n",
            "(['almost', 'out', 'the', 'various'], 'calmly')\n",
            "was\n",
            "(['calmly', 'almost', 'various', 'difficulties'], 'the')\n",
            "lasted\n",
            "(['the', 'calmly', 'difficulties', 'in'], 'various')\n",
            "chair\n",
            "(['various', 'the', 'in', 'the'], 'difficulties')\n",
            "shop\n",
            "(['difficulties', 'various', 'the', 'way'], 'in')\n",
            "by\n",
            "(['in', 'difficulties', 'way', 'ive'], 'the')\n",
            "his\n",
            "(['the', 'in', 'ive', 'thought'], 'way')\n",
            "got\n",
            "(['way', 'the', 'thought', 'it'], 'ive')\n",
            "got\n",
            "(['ive', 'way', 'it', 'all'], 'thought')\n",
            "got\n",
            "(['thought', 'ive', 'all', 'out'], 'it')\n",
            "money\n",
            "(['it', 'thought', 'out', 'said'], 'all')\n",
            "he\n",
            "(['all', 'it', 'said', 'mr'], 'out')\n",
            "right\n",
            "(['out', 'all', 'mr', 'kemp'], 'said')\n",
            "said\n",
            "(['said', 'out', 'kemp', 'nodding'], 'mr')\n",
            "mr\n",
            "(['mr', 'said', 'nodding', 'she'], 'kemp')\n",
            "kemp\n",
            "(['kemp', 'mr', 'she', 'mustnt'], 'nodding')\n",
            "said\n",
            "(['nodding', 'kemp', 'mustnt', 'know'], 'she')\n",
            "i\n",
            "(['she', 'nodding', 'know', 'im'], 'mustnt')\n",
            "of\n",
            "(['mustnt', 'she', 'im', 'not'], 'know')\n",
            "and\n",
            "(['know', 'mustnt', 'not', 'rich'], 'im')\n",
            "uncle\n",
            "(['im', 'know', 'rich', 'till'], 'not')\n",
            "uncle\n",
            "(['not', 'im', 'till', 'after'], 'rich')\n",
            "long\n",
            "(['rich', 'not', 'after', 'were'], 'till')\n",
            "a\n",
            "(['till', 'rich', 'were', 'married'], 'after')\n",
            "<UNK>\n",
            "(['after', 'till', 'married', 'then'], 'were')\n",
            "and\n",
            "(['were', 'after', 'then', 'i'], 'married')\n",
            "and\n",
            "(['married', 'were', 'i', 'ave'], 'then')\n",
            "to\n",
            "(['then', 'married', 'ave', 'a'], 'i')\n",
            "youll\n",
            "(['i', 'then', 'a', 'letter'], 'ave')\n",
            "ave\n",
            "(['ave', 'i', 'letter', 'from'], 'a')\n",
            "a\n",
            "(['a', 'ave', 'from', 'new'], 'letter')\n",
            "zealand\n",
            "(['letter', 'a', 'new', 'zealand'], 'from')\n",
            "in\n",
            "(['from', 'letter', 'zealand', 'saying'], 'new')\n",
            "new\n",
            "(['new', 'from', 'saying', 'ive'], 'zealand')\n",
            "zealand\n",
            "(['zealand', 'new', 'ive', 'lost'], 'saying')\n",
            "is\n",
            "(['saying', 'zealand', 'lost', 'all'], 'ive')\n",
            "new\n",
            "(['ive', 'saying', 'all', 'my'], 'lost')\n",
            "leave\n",
            "(['lost', 'ive', 'my', 'money'], 'all')\n",
            "is\n",
            "(['all', 'lost', 'money', 'its'], 'my')\n",
            "your\n",
            "(['my', 'all', 'its', 'just'], 'money')\n",
            "<UNK>\n",
            "(['money', 'my', 'just', 'as'], 'its')\n",
            "soon\n",
            "(['its', 'money', 'as', 'easy'], 'just')\n",
            "the\n",
            "(['just', 'its', 'easy', 'to'], 'as')\n",
            "go\n",
            "(['as', 'just', 'to', 'have'], 'easy')\n",
            "<UNK>\n",
            "(['easy', 'as', 'have', 'that'], 'to')\n",
            "would\n",
            "(['to', 'easy', 'that', 'letter'], 'have')\n",
            "him\n",
            "(['have', 'to', 'letter', 'as'], 'that')\n",
            "you\n",
            "(['that', 'have', 'as', 'the'], 'letter')\n",
            "would\n",
            "(['letter', 'that', 'the', 'one'], 'as')\n",
            "of\n",
            "(['as', 'letter', 'one', 'you'], 'the')\n",
            "spoke\n",
            "(['the', 'as', 'you', 'spoke'], 'one')\n",
            "to\n",
            "(['one', 'the', 'spoke', 'of'], 'you')\n",
            "i\n",
            "(['you', 'one', 'of', 'and'], 'spoke')\n",
            "bella\n",
            "(['spoke', 'you', 'and', 'im'], 'of')\n",
            "if\n",
            "(['of', 'spoke', 'im', 'to'], 'and')\n",
            "a\n",
            "(['and', 'of', 'to', 'find'], 'im')\n",
            "sure\n",
            "(['im', 'and', 'find', 'you'], 'to')\n",
            "could\n",
            "(['to', 'im', 'you', 'money'], 'find')\n",
            "if\n",
            "(['find', 'to', 'money', 'to'], 'you')\n",
            "him\n",
            "(['you', 'find', 'to', 'play'], 'money')\n",
            "<UNK>\n",
            "(['money', 'you', 'play', 'the'], 'to')\n",
            "i\n",
            "(['to', 'money', 'the', 'rich'], 'play')\n",
            "uncle\n",
            "(['play', 'to', 'rich', 'uncle'], 'the')\n",
            "a\n"
          ]
        }
      ],
      "source": [
        "\n",
        "test_vectors = inputs_test[0]\n",
        "for i in range(100,200):\n",
        "  print(data_test[i])\n",
        "  output_test = model(test_vectors[i].unsqueeze(0))\n",
        "  print(ix_to_word[int(torch.argmax(output_test))])\n"
      ]
    },
    {
      "cell_type": "code",
      "execution_count": 51,
      "metadata": {
        "colab": {
          "base_uri": "https://localhost:8080/"
        },
        "id": "7B9myel7Yl9D",
        "outputId": "88a50029-deaf-4545-939f-8551a5d092d8"
      },
      "outputs": [
        {
          "name": "stdout",
          "output_type": "stream",
          "text": [
            "[204, 553, 465, 878]\n",
            "like\n"
          ]
        }
      ],
      "source": [
        "test_case_words=['was','i','and','that']\n",
        "test_case_nums = []\n",
        "for w in test_case_words:\n",
        "  if w in vocab:\n",
        "    test_case_nums.append(word_to_ix[w])\n",
        "  else:\n",
        "    test_case_nums.append(0)\n",
        "\n",
        "test_case_tensor = torch.tensor(test_case_nums)\n",
        "print(test_case_nums)\n",
        "\n",
        "output_test = model(test_case_tensor.unsqueeze(0))\n",
        "print(ix_to_word[int(torch.argmax(output_test))])"
      ]
    },
    {
      "cell_type": "markdown",
      "metadata": {
        "id": "wICkQJ4M186e"
      },
      "source": [
        "# Skipgram Model"
      ]
    },
    {
      "cell_type": "code",
      "execution_count": 89,
      "metadata": {
        "id": "pLVnro2q2Bmv"
      },
      "outputs": [],
      "source": [
        "class SkipgramModel(nn.Module):\n",
        "    def __init__(self, vocab_size, embedding_dim):\n",
        "        super(SkipgramModel, self).__init__()\n",
        "        self.embeddings = nn.Embedding(vocab_size, embedding_dim)\n",
        "        self.linear1 = nn.Linear(embedding_dim, vocab_size)\n",
        "        self.linear2 = nn.Linear(embedding_dim, vocab_size)\n",
        "        self.linear3 = nn.Linear(embedding_dim, vocab_size)\n",
        "        self.linear4 = nn.Linear(embedding_dim, vocab_size)\n",
        "\n",
        "    def forward(self, inputs):\n",
        "        embedded = self.embeddings(inputs)\n",
        "        output1 = self.linear1(embedded)\n",
        "        output2 = self.linear2(embedded)\n",
        "        output3 = self.linear3(embedded)\n",
        "        output4 = self.linear4(embedded)\n",
        "        return output1, output2, output3, output4"
      ]
    },
    {
      "cell_type": "code",
      "execution_count": null,
      "metadata": {
        "id": "iaBVfpGO61Kt"
      },
      "outputs": [],
      "source": [
        "print(inputs)"
      ]
    },
    {
      "cell_type": "code",
      "execution_count": 78,
      "metadata": {
        "id": "cqZDLU0m5MJ4"
      },
      "outputs": [],
      "source": [
        "targets1_skip ,targets2_skip, targets3_skip, targets4_skip = inputs[:,:,0], inputs[:,:,1], inputs[:,:,2], inputs[:,:,3]"
      ]
    },
    {
      "cell_type": "code",
      "execution_count": 79,
      "metadata": {
        "id": "TD_f2X-88V4s"
      },
      "outputs": [],
      "source": [
        "inputs_skip = targets"
      ]
    },
    {
      "cell_type": "code",
      "execution_count": null,
      "metadata": {
        "id": "X1v28U6195Fe"
      },
      "outputs": [],
      "source": [
        "for target1,target2,target3,target4,input in zip(targets1_skip,targets2_skip,targets3_skip,targets4_skip,inputs_skip):\n",
        "  print(target1,target2,target3,target4,input)"
      ]
    },
    {
      "cell_type": "code",
      "execution_count": 133,
      "metadata": {
        "id": "BsjmaioYEd3N"
      },
      "outputs": [],
      "source": [
        "NUM_EPOCHS = 500\n",
        "LEARNING_RATE = 0.005"
      ]
    },
    {
      "cell_type": "code",
      "execution_count": 134,
      "metadata": {
        "id": "LXNRq1bmAdWb"
      },
      "outputs": [],
      "source": [
        "model_skip = SkipgramModel(vocab_size+1, EMBEDDING_DIM)\n",
        "criterion = nn.CrossEntropyLoss()\n",
        "optimizer = optim.Adam(model_skip.parameters(), lr=LEARNING_RATE)"
      ]
    },
    {
      "cell_type": "code",
      "execution_count": null,
      "metadata": {
        "colab": {
          "base_uri": "https://localhost:8080/"
        },
        "id": "XloAHR5aA0O9",
        "outputId": "70bc4ed1-3108-4178-e16a-1ad80c5db1f9"
      },
      "outputs": [],
      "source": [
        "for epoch in range(NUM_EPOCHS):\n",
        "        id = 0\n",
        "        total_loss = 0\n",
        "        for target1,target2,target3,target4,input in zip(targets1_skip,targets2_skip,targets3_skip,targets4_skip,inputs_skip):\n",
        "            optimizer.zero_grad()\n",
        "            output1, output2, output3, output4 = model_skip(input)\n",
        "            #print(output1.shape)\n",
        "            loss1 = criterion(output1, target1)\n",
        "            loss2 = criterion(output2, target2)\n",
        "            loss3 = criterion(output3, target3)\n",
        "            loss4 = criterion(output4, target4)\n",
        "            loss = (loss1+loss2+loss3+loss4)\n",
        "            loss.backward()\n",
        "            optimizer.step()\n",
        "            total_loss += loss.item()\n",
        "\n",
        "            #print(f\"Epoch {epoch+1}/{NUM_EPOCHS}, Batch {id+1}/50, Loss: {loss.item()}\")\n",
        "            id+=1\n",
        "        print(f\"Epoch {epoch+1}/{NUM_EPOCHS}, Loss: {total_loss/50}\")"
      ]
    },
    {
      "cell_type": "code",
      "execution_count": 105,
      "metadata": {
        "colab": {
          "base_uri": "https://localhost:8080/"
        },
        "id": "YWIGa2UTIpX6",
        "outputId": "f87d18f1-8799-478f-ea09-9c369636d915"
      },
      "outputs": [
        {
          "data": {
            "text/plain": [
              "tensor(349)"
            ]
          },
          "execution_count": 105,
          "metadata": {},
          "output_type": "execute_result"
        }
      ],
      "source": [
        "inputs_skip[0][0]"
      ]
    },
    {
      "cell_type": "code",
      "execution_count": 136,
      "metadata": {
        "colab": {
          "base_uri": "https://localhost:8080/"
        },
        "id": "nkUf3XnLIeqL",
        "outputId": "850739a4-84b9-4801-b138-3ba164fb9403"
      },
      "outputs": [
        {
          "name": "stdout",
          "output_type": "stream",
          "text": [
            "(['i', 'what', 'you', 'to'], 'want')\n",
            "------\n",
            "i\n",
            "what\n",
            "to\n",
            "sixpenny\n",
            "--------------------------------\n",
            "(['want', 'i', 'to', 'do'], 'you')\n",
            "------\n",
            "did\n",
            "i\n",
            "go\n",
            "got\n",
            "--------------------------------\n",
            "(['you', 'want', 'do', 'said'], 'to')\n",
            "------\n",
            "<UNK>\n",
            "the\n",
            "the\n",
            "the\n",
            "--------------------------------\n",
            "(['to', 'you', 'said', 'mr'], 'do')\n",
            "------\n",
            "itll\n",
            "you\n",
            "said\n",
            "go\n",
            "--------------------------------\n",
            "(['do', 'to', 'mr', 'george'], 'said')\n",
            "------\n",
            "he\n",
            "to\n",
            "mr\n",
            "wright\n",
            "--------------------------------\n",
            "(['said', 'do', 'george', 'wright'], 'mr')\n",
            "------\n",
            "said\n",
            "the\n",
            "kemp\n",
            "<UNK>\n",
            "--------------------------------\n",
            "(['mr', 'said', 'wright', 'as'], 'george')\n",
            "------\n",
            "mr\n",
            "the\n",
            "wright\n",
            "said\n",
            "--------------------------------\n",
            "(['george', 'mr', 'as', 'he'], 'wright')\n",
            "------\n",
            "mr\n",
            "said\n",
            "with\n",
            "the\n",
            "--------------------------------\n",
            "(['wright', 'george', 'he', 'leaned'], 'as')\n",
            "------\n",
            "far\n",
            "mr\n",
            "he\n",
            "as\n",
            "--------------------------------\n",
            "(['as', 'wright', 'leaned', 'towards'], 'he')\n",
            "------\n",
            "as\n",
            "his\n",
            "said\n",
            "in\n",
            "--------------------------------\n"
          ]
        }
      ],
      "source": [
        "for i in range(10):\n",
        "  output1, output2, output3, output4 = model_skip(inputs_skip[0][i].unsqueeze(0))\n",
        "  print(data_train[i])\n",
        "  print('------')\n",
        "  print(ix_to_word[int(torch.argmax(output1))])\n",
        "  print(ix_to_word[int(torch.argmax(output2))])\n",
        "  print(ix_to_word[int(torch.argmax(output3))])\n",
        "  print(ix_to_word[int(torch.argmax(output4))])\n",
        "  print('--------------------------------')"
      ]
    }
  ],
  "metadata": {
    "colab": {
      "provenance": []
    },
    "kernelspec": {
      "display_name": "Python 3",
      "name": "python3"
    },
    "language_info": {
      "name": "python"
    }
  },
  "nbformat": 4,
  "nbformat_minor": 0
}
